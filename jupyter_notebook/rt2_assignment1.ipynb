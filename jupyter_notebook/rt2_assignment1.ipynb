{
 "cells": [
  {
   "cell_type": "markdown",
   "id": "3c221c96",
   "metadata": {},
   "source": [
    "# Research Track 2 course: second assignment\n",
    "## Jupyter User Intarface\n",
    "This is a Jupyter User Intarface to interact with the robot simulation implemented in the previous assignment [rt2_assignment1](https://github.com/piquet8/rt2_assignment1/tree/action). This implementation communicates and interacts with the nodes (in the **action** branch of the rt2_assignment1 packages): \n",
    "- [state_machine.cpp](https://github.com/piquet8/rt2_assignment1/blob/action/src/state_machine.cpp)\n",
    "- [position_service.cpp](https://github.com/piquet8/rt2_assignment1/blob/action/src/position_service.cpp)\n",
    "- [go_to_point.py](https://github.com/piquet8/rt2_assignment1/blob/action/scripts/go_to_point.py)\n",
    "\n"
   ]
  },
  {
   "cell_type": "markdown",
   "id": "a085b1ed",
   "metadata": {},
   "source": [
    "## How to run the code\n",
    "\n",
    "Open a new shell (if you use the docker from the research track 2 course remember , you need to source ROS manually) and type:\n",
    "\n",
    "*roslaunch rt2_assignment1 jupy.launch*\n",
    "\n",
    "The open a new shall and to start the jupyter notebook type:\n",
    "\n",
    "*jupyter notebook --allow-root --ip 0.0.0.0*\n",
    "\n"
   ]
  },
  {
   "cell_type": "markdown",
   "id": "4053fc17",
   "metadata": {},
   "source": [
    "## Import and initialize all the elements that I will need later\n",
    "\n",
    "Here we can find some important library for jupyter notebook, for example:\n",
    "- *Matplotlib*: is a comprehensive library for creating static, animated, and interactive visualizations\n",
    "- *Jupyros*: is used to allow Jupyter Notebooks and Lab to use and integrated with ROS\n",
    "- *Ipywidgets*: known as jupyter-widgets or simply widgets, are interactive HTML widgets for Jupyter notebooks\n",
    "\n"
   ]
  },
  {
   "cell_type": "code",
   "execution_count": 1,
   "id": "e5b5984d",
   "metadata": {
    "ExecuteTime": {
     "end_time": "2022-04-05T22:17:56.582020Z",
     "start_time": "2022-04-05T22:17:44.204550Z"
    },
    "scrolled": true
   },
   "outputs": [],
   "source": [
    "import numpy as np\n",
    "import matplotlib.pyplot as plt\n",
    "import jupyros as jr\n",
    "import ipywidgets as widgets\n",
    "\n",
    "import matplotlib\n",
    "import rospy\n",
    "import time\n",
    "import math\n",
    "import actionlib\n",
    "import rt2_assignment1.msg\n",
    "\n",
    "from rt2_assignment1.srv import Command\n",
    "from rt2_assignment1.msg import ReachGoalResult\n",
    "from matplotlib import animation, rc\n",
    "from matplotlib import animation, rc\n",
    "from matplotlib.animation import FuncAnimation\n",
    "from ipywidgets import Button, Layout, ButtonStyle, GridBox, VBox, HBox\n",
    "from IPython.display import display\n",
    "from geometry_msgs.msg import Twist\n",
    "from nav_msgs.msg import Odometry\n",
    "%matplotlib widget\n",
    "\n",
    "rospy.init_node('user_interface')\n",
    "ui_client = rospy.ServiceProxy('/user_interface', Command)\n",
    "client = actionlib.SimpleActionClient('go_to_point', rt2_assignment1.msg.ReachGoalAction)\n",
    "pub=rospy.Publisher('/cmd_vel', Twist, queue_size=1)\n",
    "time.sleep(10)\n",
    "\n",
    "go=False\n",
    "cancelled=0 \n",
    "reached=0 \n",
    "start_time=0\n",
    "stop_time=0\n",
    "data = list()"
   ]
  },
  {
   "cell_type": "markdown",
   "id": "8afe9bdf",
   "metadata": {},
   "source": [
    "## Start or stop the robot using two buttons",
    "In this section we implement two buttons START and STOP that enable and disable the *go_to_point* behaviour, i.e. the movement and stopping of the robot. To do this, the **ui_client** service is used in the functions.
    "This has the argument 'start' in the clicked_start function. In the clicked_stop function we set the speed to zero via the **/cmd_vel** topic and delete the goal via the action client."
    "\n"
   ]
  },
  {
   "cell_type": "code",
   "execution_count": 2,
   "id": "f516c556",
   "metadata": {
    "ExecuteTime": {
     "end_time": "2022-04-05T22:17:56.748761Z",
     "start_time": "2022-04-05T22:17:56.662546Z"
    }
   },
   "outputs": [
    {
     "data": {
      "application/vnd.jupyter.widget-view+json": {
       "model_id": "0829f2adddfd403a97fad82e4e3b2193",
       "version_major": 2,
       "version_minor": 0
      },
      "text/plain": [
       "GridBox(children=(Button(description='START', layout=Layout(grid_area='b1'), style=ButtonStyle(button_color='l…"
      ]
     },
     "metadata": {},
     "output_type": "display_data"
    }
   ],
   "source": [
    "start = widgets.Button(description=\"START\",\n",
    "                       layout=widgets.Layout(widht='auto',grid_area='b1'),\n",
    "                       style=widgets.ButtonStyle(button_color='lightgreen'))\n",
    "\n",
    "stop = widgets.Button(description=\"STOP\",  \n",
    "                      layout=widgets.Layout(width='auto', grid_area='b2'),\n",
    "                      style=widgets.ButtonStyle(button_color='coral'))\n",
    "\n",
    "def clicked_start(b): \n",
    "     global start_time\n",
    "     global go\n",
    "     global count\n",
    "     ui_client(\"start\")      \n",
    "     go=True\n",
    "     start_time = time.time()\n",
    "\n",
    "def clicked_stop(b):\n",
    "     global cancelled\n",
    "     global stop_time\n",
    "     global go\n",
    "     global data\n",
    "     client.cancel_all_goals()\n",
    "     twist_msg = Twist()\n",
    "     twist_msg.linear.x = 0\n",
    "     twist_msg.linear.y = 0\n",
    "     twist_msg.angular.z = 0\n",
    "     pub.publish(twist_msg)\n",
    "     ui_client(\"stop\")\n",
    "     if go==True:\n",
    "         cancelled = cancelled + 1 \n",
    "         go=False\n",
    "         stop_time=time.time()\n",
    "         data.append(stop_time-start_time)\n",
    " \n",
    "start.on_click(clicked_start)\n",
    "stop.on_click(clicked_stop)\n",
    "\n",
    "widgets.GridBox(children=[start,stop],\n",
    "                layout=widgets.Layout(width='80%',grid_template_rows='auto auto auto',\n",
    "                grid_template_columns='16% 16% 16% 16% 16% 16% ',\n",
    "                grid_template_areas='''\"b1.b2 . . . \"''')\n",
    "               )"
   ]
  },
  {
   "cell_type": "code",
   "execution_count": 3,
   "id": "e40fa482",
   "metadata": {
    "ExecuteTime": {
     "end_time": "2022-04-05T22:17:56.926258Z",
     "start_time": "2022-04-05T22:17:56.833050Z"
    }
   },
   "outputs": [
    {
     "data": {
      "application/vnd.jupyter.widget-view+json": {
       "model_id": "29fc34a5bf3a4b4494239b4a55a691cd",
       "version_major": 2,
       "version_minor": 0
      },
      "text/plain": [
       "VBox(children=(HBox(children=(Button(description='Stop', style=ButtonStyle()),)), Output(layout=Layout(border=…"
      ]
     },
     "metadata": {},
     "output_type": "display_data"
    }
   ],
   "source": [
    "def reached_goal_clb(msg):\n",
    "  global reached\n",
    "  global start_time\n",
    "  global stop_time\n",
    "  global data \n",
    "  stop_time=time.time()\n",
    "  data.append(stop_time-start_time)\n",
    "  start_time=time.time()\n",
    "  reached = reached+1\n",
    "  \n",
    "jr.subscribe('/go_to_point/result',ReachGoalResult,reached_goal_clb)"
   ]
  },
  {
   "cell_type": "markdown",
   "id": "609f617b",
   "metadata": {
    "ExecuteTime": {
     "end_time": "2022-04-01T09:31:31.176461Z",
     "start_time": "2022-04-01T09:31:31.164006Z"
    }
   },
   "source": [
    "# Set the linear and angular velocity using two sliders "
   ]
  },
  {
   "cell_type": "code",
   "execution_count": 4,
   "id": "f32c4c4b",
   "metadata": {
    "ExecuteTime": {
     "end_time": "2022-04-05T22:17:57.084165Z",
     "start_time": "2022-04-05T22:17:57.000461Z"
    }
   },
   "outputs": [
    {
     "data": {
      "application/vnd.jupyter.widget-view+json": {
       "model_id": "46099901e4574b888d317333a256aef1",
       "version_major": 2,
       "version_minor": 0
      },
      "text/plain": [
       "FloatSlider(value=0.0, description='LINEAR Velocity', max=1.0, min=-1.0, style=SliderStyle(handle_color='dodge…"
      ]
     },
     "metadata": {},
     "output_type": "display_data"
    },
    {
     "data": {
      "application/vnd.jupyter.widget-view+json": {
       "model_id": "3a02a5828bc04de3ad0e34b91b766d88",
       "version_major": 2,
       "version_minor": 0
      },
      "text/plain": [
       "FloatSlider(value=0.0, description='ANGULAR Velocity', max=1.0, min=-1.0, style=SliderStyle(handle_color='dodg…"
      ]
     },
     "metadata": {},
     "output_type": "display_data"
    }
   ],
   "source": [
    "msg = Twist()\n",
    "\n",
    "linear = widgets.FloatSlider(description='LINEAR Velocity' ,min=-1.0, max=1.0)\n",
    "linear.style.handle_color = 'dodgerblue'\n",
    "display(linear)\n",
    "\n",
    "angular = widgets.FloatSlider(description='ANGULAR Velocity',min=-1.0, max=1.0)\n",
    "angular.style.handle_color = 'dodgerblue'\n",
    "display(angular)\n",
    "\n",
    "def on_value_change(change):\n",
    "    global msg\n",
    "    msg.linear.x = change['new']\n",
    "    pub.publish(msg)\n",
    "    \n",
    "def on_valueang_change(change):\n",
    "    global msg\n",
    "    msg.angular.z = change['new']\n",
    "    pub.publish(msg)\n",
    "\n",
    "linear.observe(on_value_change, names='value')\n",
    "angular.observe(on_valueang_change, names='value')"
   ]
  },
  {
   "cell_type": "markdown",
   "id": "84fb7fe9",
   "metadata": {},
   "source": [
    "# Manual robot's control using 5 buttons"
   ]
  },
  {
   "cell_type": "code",
   "execution_count": 5,
   "id": "be5c3490",
   "metadata": {
    "ExecuteTime": {
     "end_time": "2022-04-05T22:17:57.348854Z",
     "start_time": "2022-04-05T22:17:57.159885Z"
    }
   },
   "outputs": [
    {
     "data": {
      "application/vnd.jupyter.widget-view+json": {
       "model_id": "80cf29c252f44106bcb0a162cda6cb7f",
       "version_major": 2,
       "version_minor": 0
      },
      "text/plain": [
       "GridBox(children=(Button(icon='arrow-up', layout=Layout(grid_area='UP', width='auto'), style=ButtonStyle(butto…"
      ]
     },
     "metadata": {},
     "output_type": "display_data"
    }
   ],
   "source": [
    "UP = widgets.Button(icon=\"fa-arrow-up\", \n",
    "                    layout=Layout(width='auto', grid_area='UP'),\n",
    "                    style=ButtonStyle(button_color='gainsboro'))\n",
    "\n",
    "LEFT = widgets.Button(icon=\"fa-arrow-left\",\n",
    "                      layout=Layout(width='auto', grid_area='LEFT'),\n",
    "                      style=ButtonStyle(button_color='gainsboro'))\n",
    "\n",
    "DOWN = widgets.Button(icon=\"fa-arrow-down\",\n",
    "                      layout=Layout(width='auto', grid_area='DOWN'),\n",
    "                      style=ButtonStyle(button_color='gainsboro'))\n",
    "\n",
    "RIGHT = widgets.Button(icon=\"fa-arrow-right\",\n",
    "                       layout=Layout(width='auto', grid_area='RIGHT'),\n",
    "                       style=ButtonStyle(button_color='gainsboro'))\n",
    "\n",
    "STOP = widgets.Button(description=\"STOP\",\n",
    "                      layout=Layout(width='auto', grid_area='STOP'),\n",
    "                      style=ButtonStyle(button_color='silver'))\n",
    "\n",
    "def stop():\n",
    "     global cancelled\n",
    "     global stop_time\n",
    "     global go\n",
    "     global data\n",
    "     client.cancel_all_goals()\n",
    "     twist_msg = Twist()\n",
    "     twist_msg.linear.x = 0\n",
    "     twist_msg.linear.y = 0\n",
    "     twist_msg.angular.z = 0\n",
    "     pub.publish(twist_msg)\n",
    "     ui_client(\"stop\")\n",
    "     if go==True:\n",
    "         cancelled = cancelled + 1 \n",
    "         go=False\n",
    "         stop_time=time.time()\n",
    "         data.append(stop_time-start_time)\n",
    "        \n",
    "def click_DOWN(f):\n",
    "     stop()\n",
    "     twist_msg = Twist()\n",
    "     twist_msg.linear.x = -0.5\n",
    "     twist_msg.linear.y=0\n",
    "     twist_msg.angular.z = 0\n",
    "     pub.publish(twist_msg)\n",
    "        \n",
    "def click_UP(f):\n",
    "     stop()\n",
    "     twist_msg = Twist()\n",
    "     twist_msg.linear.x = 0.5\n",
    "     twist_msg.linear.y=0\n",
    "     twist_msg.angular.z = 0\n",
    "     pub.publish(twist_msg)\n",
    "        \n",
    "def click_LEFT(f):\n",
    "     stop()\n",
    "     twist_msg = Twist()\n",
    "     twist_msg.linear.x = 0\n",
    "     twist_msg.linear.y=0\n",
    "     twist_msg.angular.z = 0.5\n",
    "     pub.publish(twist_msg)\n",
    "        \n",
    "def click_RIGHT(f):\n",
    "     stop()\n",
    "     twist_msg = Twist()\n",
    "     twist_msg.linear.x = 0\n",
    "     twist_msg.linear.y=0\n",
    "     twist_msg.angular.z = -0.5\n",
    "     pub.publish(twist_msg)       \n",
    "    \n",
    "def click_STOP(b):\n",
    "     stop()\n",
    "     twist_msg = Twist()\n",
    "     twist_msg.linear.x = 0\n",
    "     twist_msg.linear.y=0\n",
    "     twist_msg.angular.z = 0\n",
    "     pub.publish(twist_msg)\n",
    "            \n",
    "UP.on_click(click_UP)\n",
    "LEFT.on_click(click_RIGHT)\n",
    "DOWN.on_click(click_DOWN)\n",
    "RIGHT.on_click(click_LEFT)\n",
    "STOP.on_click(click_STOP)\n",
    "\n",
    "widgets.GridBox(children=[UP, DOWN, LEFT, RIGHT ,STOP],\n",
    "                layout=widgets.Layout(width='80%',grid_template_rows='auto auto auto',\n",
    "                grid_template_columns='16% 16% 16% 16% 16% 16% ',\n",
    "                grid_template_areas='''\". .  . UP  . .\"\". . LEFT STOP RIGHT . \"\" . .  . DOWN . . \"''')\n",
    "               )"
   ]
  },
  {
   "cell_type": "markdown",
   "id": "1d9825a0",
   "metadata": {},
   "source": [
    "# Linear velocity"
   ]
  },
  {
   "cell_type": "code",
   "execution_count": 6,
   "id": "cc878b7c",
   "metadata": {
    "ExecuteTime": {
     "end_time": "2022-04-05T22:17:57.442680Z",
     "start_time": "2022-04-05T22:17:57.434111Z"
    }
   },
   "outputs": [],
   "source": [
    "t1 = time.time() \n",
    "time1 = list(range(0, 10))\n",
    "odom_linear =list()\n",
    "cmdvel_linear=list()"
   ]
  },
  {
   "cell_type": "code",
   "execution_count": 7,
   "id": "6ec667f4",
   "metadata": {
    "ExecuteTime": {
     "end_time": "2022-04-05T22:17:58.148162Z",
     "start_time": "2022-04-05T22:17:58.040224Z"
    },
    "scrolled": true
   },
   "outputs": [
    {
     "data": {
      "application/vnd.jupyter.widget-view+json": {
       "model_id": "d4a106c5951a4888be6c49a9cc4280ba",
       "version_major": 2,
       "version_minor": 0
      },
      "text/plain": [
       "VBox(children=(HBox(children=(Button(description='Stop', style=ButtonStyle()),)), Output(layout=Layout(border=…"
      ]
     },
     "metadata": {},
     "output_type": "display_data"
    }
   ],
   "source": [
    "def init():\n",
    "    line1.set_data([], [])\n",
    "    line2.set_data([], [])\n",
    "    return [line1,line2]\n",
    "\n",
    "def clb_odom(msg):\n",
    "    if len(time1)>10:\n",
    "      time1.pop(0)    \n",
    "    if len(odom_linear)>10:\n",
    "      odom_linear.pop(0)\n",
    "    x_ = np.float32(msg.twist.twist.linear.x)\n",
    "    y_ = np.float32(time.time()-t1)\n",
    "    odom_linear.append(y_)\n",
    "    time1.append(x_)\n",
    "    \n",
    "jr.subscribe('/odom', Odometry, clb_odom)"
   ]
  },
  {
   "cell_type": "code",
   "execution_count": 8,
   "id": "aeccfb33",
   "metadata": {
    "ExecuteTime": {
     "end_time": "2022-04-05T22:18:00.718169Z",
     "start_time": "2022-04-05T22:18:00.542147Z"
    }
   },
   "outputs": [
    {
     "data": {
      "application/vnd.jupyter.widget-view+json": {
       "model_id": "8839f4c9cd4746bcb954ff4ed504e51c",
       "version_major": 2,
       "version_minor": 0
      },
      "text/plain": [
       "VBox(children=(HBox(children=(Button(description='Stop', style=ButtonStyle()),)), Output(layout=Layout(border=…"
      ]
     },
     "metadata": {},
     "output_type": "display_data"
    }
   ],
   "source": [
    "def clb_cmdvel(msg):\n",
    "    if len(cmdvel_linear)>10:\n",
    "      cmdvel_linear.pop(0)\n",
    "    y_ = np.float32(msg.linear.x)\n",
    "    cmdvel_linear.append(y_)\n",
    "    \n",
    "jr.subscribe('/cmd_vel', Twist, clb_cmdvel)"
   ]
  },
  {
   "cell_type": "code",
   "execution_count": 9,
   "id": "30e67c7b",
   "metadata": {
    "ExecuteTime": {
     "end_time": "2022-04-05T22:18:02.135140Z",
     "start_time": "2022-04-05T22:18:01.647043Z"
    }
   },
   "outputs": [
    {
     "data": {
      "text/plain": [
       "<matplotlib.legend.Legend at 0x7ff7fcf2ffd0>"
      ]
     },
     "execution_count": 9,
     "metadata": {},
     "output_type": "execute_result"
    },
    {
     "data": {
      "application/vnd.jupyter.widget-view+json": {
       "model_id": "d36e06273f0a4b6b8b4e19272b065083",
       "version_major": 2,
       "version_minor": 0
      },
      "image/png": "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",
      "text/html": [
       "\n",
       "            <div style=\"display: inline-block;\">\n",
       "                <div class=\"jupyter-widgets widget-label\" style=\"text-align: center;\">\n",
       "                    Figure\n",
       "                </div>\n",
       "                <img src='data:image/png;base64,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' width=640.0/>\n",
       "            </div>\n",
       "        "
      ],
      "text/plain": [
       "Canvas(toolbar=Toolbar(toolitems=[('Home', 'Reset original view', 'home', 'home'), ('Back', 'Back to previous …"
      ]
     },
     "metadata": {},
     "output_type": "display_data"
    }
   ],
   "source": [
    "fig1,ax1 = plt.subplots()\n",
    "line1, = ax1.plot([], [], color ='r', label ='/odom')\n",
    "line2, = ax1.plot([], [], color ='b', label ='/cmd_vel')\n",
    "ax1.set_xlabel('time (s)') \n",
    "ax1.set_ylabel('velocity m/s')\n",
    "ax1.set_title(\"Linear velocity\")\n",
    "plt.legend(loc='upper right')"
   ]
  },
  {
   "cell_type": "code",
   "execution_count": 24,
   "id": "8ab1af5a",
   "metadata": {
    "ExecuteTime": {
     "end_time": "2022-04-05T22:15:08.538880Z",
     "start_time": "2022-04-05T22:15:08.523370Z"
    }
   },
   "outputs": [],
   "source": [
    "def animation_1(i):\n",
    "    line1.set_data(time1, odom_linear)\n",
    "    line2.set_data(time1, cmdvel_linear)\n",
    "    ax1.axis([time1[0]-0.2,time1[9]+0.2,-0.5,0.5])    \n",
    "    return [line1,line2]\n",
    "\n",
    "animation_1 = animation.FuncAnimation(fig1, animation_1, init_func=init, frames=100, interval=20, blit=True)"
   ]
  },
  {
   "cell_type": "markdown",
   "id": "965b5f81",
   "metadata": {},
   "source": [
    "# Angular velocity"
   ]
  },
  {
   "cell_type": "code",
   "execution_count": 25,
   "id": "1ab4e77f",
   "metadata": {
    "ExecuteTime": {
     "end_time": "2022-04-05T22:15:26.832644Z",
     "start_time": "2022-04-05T22:15:26.813061Z"
    }
   },
   "outputs": [],
   "source": [
    "t2 = time.time() \n",
    "time2 = list(range(0, 10))\n",
    "odom_angular =list()\n",
    "cmdvel_angular=list()"
   ]
  },
  {
   "cell_type": "code",
   "execution_count": 26,
   "id": "54c42a11",
   "metadata": {
    "ExecuteTime": {
     "end_time": "2022-04-05T22:15:27.735111Z",
     "start_time": "2022-04-05T22:15:27.591385Z"
    }
   },
   "outputs": [
    {
     "name": "stderr",
     "output_type": "stream",
     "text": [
      "Removing previous callback, only one redirection possible right now\n"
     ]
    },
    {
     "data": {
      "application/vnd.jupyter.widget-view+json": {
       "model_id": "ce2942b3709a4d5e90616a58c1ce31bc",
       "version_major": 2,
       "version_minor": 0
      },
      "text/plain": [
       "VBox(children=(HBox(children=(Button(description='Stop', style=ButtonStyle()),)), Output(layout=Layout(border=…"
      ]
     },
     "metadata": {},
     "output_type": "display_data"
    }
   ],
   "source": [
    "def init1():\n",
    "    line3.set_data([], [])\n",
    "    line4.set_data([], [])\n",
    "    return [line3,line4]\n",
    "\n",
    "def clb_odom1(msg):\n",
    "    if len(time2)>10:\n",
    "      time2.pop(0) \n",
    "    if len(odom_angular)>10:\n",
    "      odom_angular.pop(0)\n",
    "    iupsilon = np.float32(msg.twist.twist.angular.z)\n",
    "    ix = np.float32(time.time()-t2)\n",
    "    odom_angular.append(iupsilon)\n",
    "    time2.append(ix)\n",
    "    \n",
    "jr.subscribe('/odom',Odometry, clb_odom1)"
   ]
  },
  {
   "cell_type": "code",
   "execution_count": 27,
   "id": "fa7c6e25",
   "metadata": {
    "ExecuteTime": {
     "end_time": "2022-04-05T22:15:28.687065Z",
     "start_time": "2022-04-05T22:15:28.481194Z"
    }
   },
   "outputs": [
    {
     "name": "stderr",
     "output_type": "stream",
     "text": [
      "Removing previous callback, only one redirection possible right now\n"
     ]
    },
    {
     "data": {
      "application/vnd.jupyter.widget-view+json": {
       "model_id": "f5bd9e72a98e43f58dd24ebeb5fba538",
       "version_major": 2,
       "version_minor": 0
      },
      "text/plain": [
       "VBox(children=(HBox(children=(Button(description='Stop', style=ButtonStyle()),)), Output(layout=Layout(border=…"
      ]
     },
     "metadata": {},
     "output_type": "display_data"
    }
   ],
   "source": [
    "def clb_cmdvel1(msg):\n",
    "    if len(cmdvel_angular)>10:\n",
    "      cmdvel_angular.pop(0)\n",
    "    iupsilon = np.float32(msg.angular.z)\n",
    "    cmdvel_angular.append(iupsilon)\n",
    "    \n",
    "jr.subscribe('/cmd_vel', Twist, clb_cmdvel1)"
   ]
  },
  {
   "cell_type": "code",
   "execution_count": 28,
   "id": "964e9d1a",
   "metadata": {
    "ExecuteTime": {
     "end_time": "2022-04-05T22:15:30.613437Z",
     "start_time": "2022-04-05T22:15:30.193278Z"
    }
   },
   "outputs": [
    {
     "data": {
      "text/plain": [
       "<matplotlib.legend.Legend at 0x7f962ddb0f70>"
      ]
     },
     "execution_count": 28,
     "metadata": {},
     "output_type": "execute_result"
    },
    {
     "data": {
      "application/vnd.jupyter.widget-view+json": {
       "model_id": "9b62608568804ee3b0d421f40159c47e",
       "version_major": 2,
       "version_minor": 0
      },
      "image/png": "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",
      "text/html": [
       "\n",
       "            <div style=\"display: inline-block;\">\n",
       "                <div class=\"jupyter-widgets widget-label\" style=\"text-align: center;\">\n",
       "                    Figure\n",
       "                </div>\n",
       "                <img src='data:image/png;base64,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' width=640.0/>\n",
       "            </div>\n",
       "        "
      ],
      "text/plain": [
       "Canvas(toolbar=Toolbar(toolitems=[('Home', 'Reset original view', 'home', 'home'), ('Back', 'Back to previous …"
      ]
     },
     "metadata": {},
     "output_type": "display_data"
    }
   ],
   "source": [
    "fig2, ax2 = plt.subplots()\n",
    "line3, = ax2.plot([], [], color ='r', label ='/odom')\n",
    "line4, = ax2.plot([], [], color ='b', label ='/cmd_vel')\n",
    "ax2.set_xlabel('time (s)') \n",
    "ax2.set_ylabel('velocity rad/s')\n",
    "ax2.set_title(\"Angular velocity\")\n",
    "plt.legend(loc='upper right')"
   ]
  },
  {
   "cell_type": "code",
   "execution_count": 30,
   "id": "69a2aca0",
   "metadata": {
    "ExecuteTime": {
     "end_time": "2022-04-05T22:16:42.332148Z",
     "start_time": "2022-04-05T22:16:42.305284Z"
    }
   },
   "outputs": [],
   "source": [
    "def animation_2(i):\n",
    "    line3.set_data(time2, odom_angular)\n",
    "    line4.set_data(time2, cmdvel_angular)\n",
    "    ax2.axis([time2[0]-0.2,time2[9]+0.2,-0.5,0.5])\n",
    "    return [line3,line4]\n",
    "\n",
    "animation_2 = animation.FuncAnimation(fig2, animation_2, init_func=init1, frames=100, interval=20, blit=True)"
   ]
  },
  {
   "cell_type": "markdown",
   "id": "1d4f57b2",
   "metadata": {},
   "source": [
    "# Bar plot displaying the number of reached targets and cancelled targets\n"
   ]
  },
  {
   "cell_type": "code",
   "execution_count": 11,
   "id": "58295cdb",
   "metadata": {
    "ExecuteTime": {
     "end_time": "2022-04-05T22:18:52.341354Z",
     "start_time": "2022-04-05T22:18:52.113643Z"
    }
   },
   "outputs": [
    {
     "data": {
      "application/vnd.jupyter.widget-view+json": {
       "model_id": "d36e06273f0a4b6b8b4e19272b065083",
       "version_major": 2,
       "version_minor": 0
      },
      "image/png": "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",
      "text/html": [
       "\n",
       "            <div style=\"display: inline-block;\">\n",
       "                <div class=\"jupyter-widgets widget-label\" style=\"text-align: center;\">\n",
       "                    Figure 1\n",
       "                </div>\n",
       "                <img src='data:image/png;base64,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' width=640.0/>\n",
       "            </div>\n",
       "        "
      ],
      "text/plain": [
       "Canvas(toolbar=Toolbar(toolitems=[('Home', 'Reset original view', 'home', 'home'), ('Back', 'Back to previous …"
      ]
     },
     "metadata": {},
     "output_type": "display_data"
    }
   ],
   "source": [
    "states = (reached,cancelled)\n",
    "index = np.arange(2)\n",
    "f1,axis2= plt.bar(index,states,width=0.5,color='g')\n",
    "plt.ylabel('Number')\n",
    "plt.title('Targets')\n",
    "plt.xticks(index, ('reached', 'cancelled'))\n",
    "plt.show()"
   ]
  },
  {
   "cell_type": "markdown",
   "id": "555042be",
   "metadata": {},
   "source": [
    "# Histogram plot showing the time required to reach targets"
   ]
  },
  {
   "cell_type": "code",
   "execution_count": 13,
   "id": "211a4113",
   "metadata": {
    "ExecuteTime": {
     "end_time": "2022-04-05T22:19:16.027697Z",
     "start_time": "2022-04-05T22:19:15.831298Z"
    }
   },
   "outputs": [
    {
     "name": "stderr",
     "output_type": "stream",
     "text": [
      "/tmp/ipykernel_6830/1901120746.py:2: MatplotlibDeprecationWarning: Adding an axes using the same arguments as a previous axes currently reuses the earlier instance.  In a future version, a new instance will always be created and returned.  Meanwhile, this warning can be suppressed, and the future behavior ensured, by passing a unique label to each axes instance.\n",
      "  fig2=plt.subplot(111)\n"
     ]
    },
    {
     "data": {
      "application/vnd.jupyter.widget-view+json": {
       "model_id": "d36e06273f0a4b6b8b4e19272b065083",
       "version_major": 2,
       "version_minor": 0
      },
      "image/png": "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",
      "text/html": [
       "\n",
       "            <div style=\"display: inline-block;\">\n",
       "                <div class=\"jupyter-widgets widget-label\" style=\"text-align: center;\">\n",
       "                    Figure 1\n",
       "                </div>\n",
       "                <img src='data:image/png;base64,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' width=640.0/>\n",
       "            </div>\n",
       "        "
      ],
      "text/plain": [
       "Canvas(toolbar=Toolbar(toolitems=[('Home', 'Reset original view', 'home', 'home'), ('Back', 'Back to previous …"
      ]
     },
     "metadata": {},
     "output_type": "display_data"
    }
   ],
   "source": [
    "var2=list(range(0,len(data),1))\n",
    "fig2=plt.subplot(111)\n",
    "plt.bar(var2,data,width=0.5,color='b')\n",
    "plt.ylabel('time (s)')\n",
    "plt.title('Time required to reach targets')\n",
    "plt.show()"
   ]
  },
  {
   "cell_type": "markdown",
   "id": "5e565481",
   "metadata": {},
   "source": [
    "# Robot position"
   ]
  },
  {
   "cell_type": "code",
   "execution_count": 14,
   "id": "da26bcf9",
   "metadata": {
    "ExecuteTime": {
     "end_time": "2022-04-05T22:19:36.958822Z",
     "start_time": "2022-04-05T22:19:36.953650Z"
    }
   },
   "outputs": [],
   "source": [
    "x_data=list()\n",
    "y_data=list()"
   ]
  },
  {
   "cell_type": "code",
   "execution_count": 15,
   "id": "df050ad1",
   "metadata": {
    "ExecuteTime": {
     "end_time": "2022-04-05T22:19:38.273976Z",
     "start_time": "2022-04-05T22:19:37.945220Z"
    }
   },
   "outputs": [
    {
     "data": {
      "application/vnd.jupyter.widget-view+json": {
       "model_id": "a4252b4f9efd43a5893246bdc12a3174",
       "version_major": 2,
       "version_minor": 0
      },
      "image/png": "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",
      "text/html": [
       "\n",
       "            <div style=\"display: inline-block;\">\n",
       "                <div class=\"jupyter-widgets widget-label\" style=\"text-align: center;\">\n",
       "                    Figure\n",
       "                </div>\n",
       "                <img src='data:image/png;base64,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' width=640.0/>\n",
       "            </div>\n",
       "        "
      ],
      "text/plain": [
       "Canvas(toolbar=Toolbar(toolitems=[('Home', 'Reset original view', 'home', 'home'), ('Back', 'Back to previous …"
      ]
     },
     "metadata": {},
     "output_type": "display_data"
    }
   ],
   "source": [
    "fig, ax = plt.subplots()\n",
    "ax.set_xlim(( -5, 5))\n",
    "ax.set_ylim((-5, 5))\n",
    "ax.set_xlabel('x') \n",
    "ax.set_ylabel('y')\n",
    "ax.set_title(\"Position\")\n",
    "line, = ax.plot([], [], 'ro')"
   ]
  },
  {
   "cell_type": "code",
   "execution_count": 16,
   "id": "96b49b24",
   "metadata": {
    "ExecuteTime": {
     "end_time": "2022-04-05T22:19:39.435634Z",
     "start_time": "2022-04-05T22:19:39.251381Z"
    },
    "scrolled": true
   },
   "outputs": [
    {
     "name": "stderr",
     "output_type": "stream",
     "text": [
      "Removing previous callback, only one redirection possible right now\n"
     ]
    },
    {
     "data": {
      "application/vnd.jupyter.widget-view+json": {
       "model_id": "faca4d2932524c3599a824cebb04c411",
       "version_major": 2,
       "version_minor": 0
      },
      "text/plain": [
       "VBox(children=(HBox(children=(Button(description='Stop', style=ButtonStyle()),)), Output(layout=Layout(border=…"
      ]
     },
     "metadata": {},
     "output_type": "display_data"
    }
   ],
   "source": [
    "def init2():\n",
    "    line.set_data([], [])\n",
    "    return (line,)\n",
    "    \n",
    "def odom_callback(msg):\n",
    "    if len(x_data)>50:\n",
    "      x_data.pop(0)     \n",
    "    if len(y_data)>50:\n",
    "      y_data.pop(0)\n",
    "    iupsilon = np.float32(msg.pose.pose.position.y)\n",
    "    x_ = np.float32(msg.pose.pose.position.x)\n",
    "    y_data.append(iupsilon)\n",
    "    x_data.append(x_)\n",
    "    \n",
    "jr.subscribe('/odom', Odometry, odom_callback)"
   ]
  },
  {
   "cell_type": "code",
   "execution_count": 17,
   "id": "f5a79485",
   "metadata": {
    "ExecuteTime": {
     "end_time": "2022-04-05T22:19:41.134382Z",
     "start_time": "2022-04-05T22:19:41.125855Z"
    }
   },
   "outputs": [],
   "source": [
    "def animation_3(i):\n",
    "    line.set_data(x_data, y_data)\n",
    "    return (line,)\n",
    "\n",
    "animation_3 = animation.FuncAnimation(fig, animation_3, init_func=init2, frames=100, interval=20, blit=True)"
   ]
  }
 ],
 "metadata": {
  "hide_input": false,
  "kernelspec": {
   "display_name": "Python 3 (ipykernel)",
   "language": "python",
   "name": "python3"
  },
  "language_info": {
   "codemirror_mode": {
    "name": "ipython",
    "version": 3
   },
   "file_extension": ".py",
   "mimetype": "text/x-python",
   "name": "python",
   "nbconvert_exporter": "python",
   "pygments_lexer": "ipython3",
   "version": "3.8.10"
  },
  "toc": {
   "base_numbering": 1,
   "nav_menu": {},
   "number_sections": true,
   "sideBar": true,
   "skip_h1_title": false,
   "title_cell": "Table of Contents",
   "title_sidebar": "Contents",
   "toc_cell": false,
   "toc_position": {},
   "toc_section_display": true,
   "toc_window_display": false
  },
  "varInspector": {
   "cols": {
    "lenName": 16,
    "lenType": 16,
    "lenVar": 40
   },
   "kernels_config": {
    "python": {
     "delete_cmd_postfix": "",
     "delete_cmd_prefix": "del ",
     "library": "var_list.py",
     "varRefreshCmd": "print(var_dic_list())"
    },
    "r": {
     "delete_cmd_postfix": ") ",
     "delete_cmd_prefix": "rm(",
     "library": "var_list.r",
     "varRefreshCmd": "cat(var_dic_list()) "
    }
   },
   "types_to_exclude": [
    "module",
    "function",
    "builtin_function_or_method",
    "instance",
    "_Feature"
   ],
   "window_display": false
  }
 },
 "nbformat": 4,
 "nbformat_minor": 5
}
