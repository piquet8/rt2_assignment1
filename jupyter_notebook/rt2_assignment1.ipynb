{
 "cells": [
  {
   "cell_type": "markdown",
   "id": "3c221c96",
   "metadata": {},
   "source": [
    "# Research Track 2 course: second assignment\n",
    "## Jupyter User Intarface\n",
    "This is a Jupyter User Intarface to interact with the robot simulation implemented in the previous assignment [rt2_assignment1](https://github.com/piquet8/rt2_assignment1/tree/action). This implementation communicates and interacts with the nodes (in the **action** branch of the rt2_assignment1 packages): \n",
    "- [state_machine.cpp](https://github.com/piquet8/rt2_assignment1/blob/action/src/state_machine.cpp)\n",
    "- [position_service.cpp](https://github.com/piquet8/rt2_assignment1/blob/action/src/position_service.cpp)\n",
    "- [go_to_point.py](https://github.com/piquet8/rt2_assignment1/blob/action/scripts/go_to_point.py)\n",
    "\n"
   ]
  },
  {
   "cell_type": "markdown",
   "id": "a085b1ed",
   "metadata": {},
   "source": [
    "## How to run the code\n",
    "\n",
    "Open a new shell (if you use the docker from the research track 2 course remember , you need to source ROS manually) and type:\n",
    "\n",
    "*roslaunch rt2_assignment1 jupy.launch*\n",
    "\n",
    "The open a new shall and to start the jupyter notebook type:\n",
    "\n",
    "*jupyter notebook --allow-root --ip 0.0.0.0*\n",
    "\n"
   ]
  },
  {
   "cell_type": "markdown",
   "id": "4053fc17",
   "metadata": {},
   "source": [
    "## Import and initialize all the elements that I will need later\n",
    "\n",
    "Here we can find some important library for jupyter notebook, for example:\n",
    "- `Matplotlib`: is a comprehensive library for creating static, animated, and interactive visualizations\n",
    "- `Jupyros`: is used to allow Jupyter Notebooks and Lab to use and integrated with ROS\n",
    "- `Ipywidgets`: known as jupyter-widgets or simply widgets, are interactive HTML widgets for Jupyter notebooks\n",
    "\n"
   ]
  },
  {
   "cell_type": "code",
   "execution_count": null,
   "id": "e5b5984d",
   "metadata": {
    "ExecuteTime": {
     "end_time": "2022-04-06T08:33:40.248763Z",
     "start_time": "2022-04-06T08:33:30.225280Z"
    },
    "scrolled": true
   },
   "outputs": [],
   "source": [
    "import numpy as np\n",
    "import matplotlib.pyplot as plt\n",
    "import jupyros as jr\n",
    "import ipywidgets as widgets\n",
    "\n",
    "import matplotlib\n",
    "import rospy\n",
    "import time\n",
    "import math\n",
    "import actionlib\n",
    "import rt2_assignment1.msg\n",
    "\n",
    "from rt2_assignment1.srv import Command\n",
    "from rt2_assignment1.msg import ReachGoalResult\n",
    "from matplotlib import animation, rc\n",
    "from matplotlib import animation, rc\n",
    "from matplotlib.animation import FuncAnimation\n",
    "from ipywidgets import Button, Layout, ButtonStyle, GridBox, VBox, HBox\n",
    "from IPython.display import display\n",
    "from geometry_msgs.msg import Twist\n",
    "from nav_msgs.msg import Odometry\n",
    "%matplotlib widget\n",
    "\n",
    "rospy.init_node('user_interface')\n",
    "ui_client = rospy.ServiceProxy('/user_interface', Command)\n",
    "client = actionlib.SimpleActionClient('go_to_point', rt2_assignment1.msg.ReachGoalAction)\n",
    "pub=rospy.Publisher('/cmd_vel', Twist, queue_size=1)\n",
    "time.sleep(10)\n",
    "\n",
    "go=False\n",
    "cancelled=0 \n",
    "reached=0 \n",
    "start_time=0\n",
    "stop_time=0\n",
    "data = list()"
   ]
  },
  {
   "cell_type": "markdown",
   "id": "8afe9bdf",
   "metadata": {},
   "source": [
    "## Start or stop the robot using two buttons\n",
    "In this section I implemented two buttons START and STOP that enable and disable the `go_to_point` behavior of the [go_to_point.py](https://github.com/piquet8/rt2_assignment1/blob/action/scripts/go_to_point.py) node, i.e. the movement and stopping of the robot. To do this, the `ui_client` service is used in the functions. This has the argument 'start' in the clicked_start function. In the clicked_stop function we set the speed to zero via the `/cmd_vel` topic and delete the goal via the action client.\n",
    "\n"
   ]
  },
  {
   "cell_type": "code",
   "execution_count": null,
   "id": "f516c556",
   "metadata": {
    "ExecuteTime": {
     "end_time": "2022-04-06T08:33:40.356627Z",
     "start_time": "2022-04-06T08:33:40.322098Z"
    }
   },
   "outputs": [],
   "source": [
    "start = widgets.Button(description=\"START\",\n",
    "                       layout=widgets.Layout(widht='auto',grid_area='b1'),\n",
    "                       style=widgets.ButtonStyle(button_color='lightgreen'))\n",
    "\n",
    "stop = widgets.Button(description=\"STOP\",  \n",
    "                      layout=widgets.Layout(width='auto', grid_area='b2'),\n",
    "                      style=widgets.ButtonStyle(button_color='coral'))\n",
    "\n",
    "def clicked_start(b): \n",
    "     global start_time\n",
    "     global go\n",
    "     global count\n",
    "     ui_client(\"start\")      \n",
    "     go=True\n",
    "     start_time = time.time()\n",
    "\n",
    "def clicked_stop(b):\n",
    "     global cancelled\n",
    "     global stop_time\n",
    "     global go\n",
    "     global data\n",
    "     client.cancel_all_goals()\n",
    "     twist_msg = Twist()\n",
    "     twist_msg.linear.x = 0\n",
    "     twist_msg.linear.y = 0\n",
    "     twist_msg.angular.z = 0\n",
    "     pub.publish(twist_msg)\n",
    "     ui_client(\"stop\")\n",
    "     if go==True:\n",
    "         cancelled = cancelled + 1 \n",
    "         go=False\n",
    "         stop_time=time.time()\n",
    "         data.append(stop_time-start_time)\n",
    " \n",
    "start.on_click(clicked_start)\n",
    "stop.on_click(clicked_stop)\n",
    "\n",
    "widgets.GridBox(children=[start,stop],\n",
    "                layout=widgets.Layout(width='80%',grid_template_rows='auto auto auto',\n",
    "                grid_template_columns='16% 16% 16% 16% 16% 16% ',\n",
    "                grid_template_areas='''\"b1.b2 . . . \"''')\n",
    "               )"
   ]
  },
  {
   "cell_type": "markdown",
   "id": "f0751188",
   "metadata": {},
   "source": [
    "\n",
    "In this section there is a simple function in whose callback I implemented a counter that updates the number of reached goals, to do so it subscribes to the `go_to_point/result`. The **reached** value will be used later in the Bar Plot graph.\n"   
   ]
  },
  {
   "cell_type": "code",
   "execution_count": null,
   "id": "e40fa482",
   "metadata": {
    "ExecuteTime": {
     "end_time": "2022-04-06T08:32:53.596663Z",
     "start_time": "2022-04-06T08:32:53.561752Z"
    }
   },
   "outputs": [],
   "source": [
    "def reached_goal_clb(msg):\n",
    "  global reached\n",
    "  global start_time\n",
    "  global stop_time\n",
    "  global data \n",
    "  stop_time=time.time()\n",
    "  data.append(stop_time-start_time)\n",
    "  start_time=time.time()\n",
    "  reached = reached+1\n",
    "  \n",
    "jr.subscribe('/go_to_point/result',ReachGoalResult,reached_goal_clb)"
   ]
  },
  {
   "cell_type": "markdown",
   "id": "609f617b",
   "metadata": {
    "ExecuteTime": {
     "end_time": "2022-04-01T09:31:31.176461Z",
     "start_time": "2022-04-01T09:31:31.164006Z"
    }
   },
   "source": [
    "## Set the linear and angular velocity using two sliders \n",
    "In this section two sliders to change the linear and angular velocity of the robot are implemented. The vlocity can be set among -1 and 1 by dragging the pointer, to do that the updated valude is published on the `/cmd_vel` topic.\n"
   ]
  },
  {
   "cell_type": "code",
   "execution_count": null,
   "id": "f32c4c4b",
   "metadata": {
    "ExecuteTime": {
     "end_time": "2022-04-05T22:17:57.084165Z",
     "start_time": "2022-04-05T22:17:57.000461Z"
    }
   },
   "outputs": [],
   "source": [
    "msg = Twist()\n",
    "\n",
    "linear = widgets.FloatSlider(description='LINEAR Velocity' ,min=-1.0, max=1.0)\n",
    "linear.style.handle_color = 'dodgerblue'\n",
    "display(linear)\n",
    "\n",
    "angular = widgets.FloatSlider(description='ANGULAR Velocity',min=-1.0, max=1.0)\n",
    "angular.style.handle_color = 'dodgerblue'\n",
    "display(angular)\n",
    "\n",
    "def on_value_change(change):\n",
    "    global msg\n",
    "    msg.linear.x = change['new']\n",
    "    pub.publish(msg)\n",
    "    \n",
    "def on_valueang_change(change):\n",
    "    global msg\n",
    "    msg.angular.z = change['new']\n",
    "    pub.publish(msg)\n",
    "\n",
    "linear.observe(on_value_change, names='value')\n",
    "angular.observe(on_valueang_change, names='value')"
   ]
  },
  {
   "cell_type": "markdown",
   "id": "84fb7fe9",
   "metadata": {},
   "source": [
    "## Manual robot's control using 5 buttons\n",
    "In this section is implemented a manual controller for the user, in this way the user can control the movment of the robot pushing the different buttons.\n",
    " In the first part the different buttons widget are implemented, then we have different callback for each buttons\n.",
    " In the `stop()` function we stop the `go_to_point` behavior and **cancel** the goal, this function is called at the beginning of the all btuttons, in this way when the user starts to use the manual control the random behavior finishes.\n",
    " In the other callbacks we simply set the values of the linear and angular velocity publishing on the `/cmd_vel` topic according to the function of each button.\n"
   ]
  },
  {
   "cell_type": "code",
   "execution_count": null,
   "id": "be5c3490",
   "metadata": {
    "ExecuteTime": {
     "end_time": "2022-04-05T22:17:57.348854Z",
     "start_time": "2022-04-05T22:17:57.159885Z"
    }
   },
   "outputs": [],
   "source": [
    "UP = widgets.Button(icon=\"fa-arrow-up\", \n",
    "                    layout=Layout(width='auto', grid_area='UP'),\n",
    "                    style=ButtonStyle(button_color='gainsboro'))\n",
    "\n",
    "LEFT = widgets.Button(icon=\"fa-arrow-left\",\n",
    "                      layout=Layout(width='auto', grid_area='LEFT'),\n",
    "                      style=ButtonStyle(button_color='gainsboro'))\n",
    "\n",
    "DOWN = widgets.Button(icon=\"fa-arrow-down\",\n",
    "                      layout=Layout(width='auto', grid_area='DOWN'),\n",
    "                      style=ButtonStyle(button_color='gainsboro'))\n",
    "\n",
    "RIGHT = widgets.Button(icon=\"fa-arrow-right\",\n",
    "                       layout=Layout(width='auto', grid_area='RIGHT'),\n",
    "                       style=ButtonStyle(button_color='gainsboro'))\n",
    "\n",
    "STOP = widgets.Button(description=\"STOP\",\n",
    "                      layout=Layout(width='auto', grid_area='STOP'),\n",
    "                      style=ButtonStyle(button_color='silver'))\n",
    "\n",
    "def stop():\n",
    "     global cancelled\n",
    "     global stop_time\n",
    "     global go\n",
    "     global data\n",
    "     client.cancel_all_goals()\n",
    "     twist_msg = Twist()\n",
    "     twist_msg.linear.x = 0\n",
    "     twist_msg.linear.y = 0\n",
    "     twist_msg.angular.z = 0\n",
    "     pub.publish(twist_msg)\n",
    "     ui_client(\"stop\")\n",
    "     if go==True:\n",
    "         cancelled = cancelled + 1 \n",
    "         go=False\n",
    "         stop_time=time.time()\n",
    "         data.append(stop_time-start_time)\n",
    "        \n",
    "def click_DOWN(f):\n",
    "     stop()\n",
    "     twist_msg = Twist()\n",
    "     twist_msg.linear.x = -0.5\n",
    "     twist_msg.linear.y=0\n",
    "     twist_msg.angular.z = 0\n",
    "     pub.publish(twist_msg)\n",
    "        \n",
    "def click_UP(f):\n",
    "     stop()\n",
    "     twist_msg = Twist()\n",
    "     twist_msg.linear.x = 0.5\n",
    "     twist_msg.linear.y=0\n",
    "     twist_msg.angular.z = 0\n",
    "     pub.publish(twist_msg)\n",
    "        \n",
    "def click_LEFT(f):\n",
    "     stop()\n",
    "     twist_msg = Twist()\n",
    "     twist_msg.linear.x = 0\n",
    "     twist_msg.linear.y=0\n",
    "     twist_msg.angular.z = 0.5\n",
    "     pub.publish(twist_msg)\n",
    "        \n",
    "def click_RIGHT(f):\n",
    "     stop()\n",
    "     twist_msg = Twist()\n",
    "     twist_msg.linear.x = 0\n",
    "     twist_msg.linear.y=0\n",
    "     twist_msg.angular.z = -0.5\n",
    "     pub.publish(twist_msg)       \n",
    "    \n",
    "def click_STOP(b):\n",
    "     stop()\n",
    "     twist_msg = Twist()\n",
    "     twist_msg.linear.x = 0\n",
    "     twist_msg.linear.y=0\n",
    "     twist_msg.angular.z = 0\n",
    "     pub.publish(twist_msg)\n",
    "            \n",
    "UP.on_click(click_UP)\n",
    "LEFT.on_click(click_RIGHT)\n",
    "DOWN.on_click(click_DOWN)\n",
    "RIGHT.on_click(click_LEFT)\n",
    "STOP.on_click(click_STOP)\n",
    "\n",
    "widgets.GridBox(children=[UP, DOWN, LEFT, RIGHT ,STOP],\n",
    "                layout=widgets.Layout(width='80%',grid_template_rows='auto auto auto',\n",
    "                grid_template_columns='16% 16% 16% 16% 16% 16% ',\n",
    "                grid_template_areas='''\". .  . UP  . .\"\". . LEFT STOP RIGHT . \"\" . .  . DOWN . . \"''')\n",
    "               )"
   ]
  },
  {
   "cell_type": "markdown",
   "id": "1d9825a0",
   "metadata": {},
   "source": [
    "## In this second part of the assignment I implemented some graphic representation for the data robot \n",
    "For visualizing the data changes we used the `animation.FuncAnimation` method that make aviable a live animation in Matplotlib.\n",
    "\n",
    "## Linear velocity",
    "In these functions we continuosly asking data by subscription inside `/cmd_vel` and `/odom` to update data inside different arrays.\n",
    "REMARK:\n",
    "- Every time `Run` button is pushed the figure is updates inside the animation section\n",
    "- Subscribers must be put in separate cells to not have conflicts"
   ]
  },
  {
   "cell_type": "code",
   "execution_count": null,
   "id": "cc878b7c",
   "metadata": {
    "ExecuteTime": {
     "end_time": "2022-04-05T22:17:57.442680Z",
     "start_time": "2022-04-05T22:17:57.434111Z"
    }
   },
   "outputs": [],
   "source": [
    "t1 = time.time() \n",
    "time1 = list(range(0, 10))\n",
    "odom_linear =list()\n",
    "cmdvel_linear=list()"
   ]
  },
  {
   "cell_type": "code",
   "execution_count": null,
   "id": "6ec667f4",
   "metadata": {
    "ExecuteTime": {
     "end_time": "2022-04-05T22:17:58.148162Z",
     "start_time": "2022-04-05T22:17:58.040224Z"
    },
    "scrolled": true
   },
   "outputs": [],
   "source": [
    "def init():\n",
    "    line1.set_data([], [])\n",
    "    line2.set_data([], [])\n",
    "    return [line1,line2]\n",
    "\n",
    "def clb_odom(msg):\n",
    "    if len(time1)>10:\n",
    "      time1.pop(0)    \n",
    "    if len(odom_linear)>10:\n",
    "      odom_linear.pop(0)\n",
    "    x_ = np.float32(msg.twist.twist.linear.x)\n",
    "    y_ = np.float32(time.time()-t1)\n",
    "    odom_linear.append(y_)\n",
    "    time1.append(x_)\n",
    "    \n",
    "jr.subscribe('/odom', Odometry, clb_odom)"
   ]
  },
  {
   "cell_type": "code",
   "execution_count": null,
   "id": "aeccfb33",
   "metadata": {
    "ExecuteTime": {
     "end_time": "2022-04-05T22:18:00.718169Z",
     "start_time": "2022-04-05T22:18:00.542147Z"
    }
   },
   "outputs": [],
   "source": [
    "def clb_cmdvel(msg):\n",
    "    if len(cmdvel_linear)>10:\n",
    "      cmdvel_linear.pop(0)\n",
    "    y_ = np.float32(msg.linear.x)\n",
    "    cmdvel_linear.append(y_)\n",
    "    \n",
    "jr.subscribe('/cmd_vel', Twist, clb_cmdvel)"
   ]
  },
  {
   "cell_type": "code",
   "execution_count": null,
   "id": "30e67c7b",
   "metadata": {
    "ExecuteTime": {
     "end_time": "2022-04-05T22:18:02.135140Z",
     "start_time": "2022-04-05T22:18:01.647043Z"
    }
   },
   "outputs": [],
   "source": [
    "fig1,ax1 = plt.subplots()\n",
    "line1, = ax1.plot([], [], color ='r', label ='/odom')\n",
    "line2, = ax1.plot([], [], color ='b', label ='/cmd_vel')\n",
    "ax1.set_xlabel('time (s)') \n",
    "ax1.set_ylabel('velocity m/s')\n",
    "ax1.set_title(\"Linear velocity\")\n",
    "plt.legend(loc='upper right')"
   ]
  },
  {
   "cell_type": "code",
   "execution_count": null,
   "id": "8ab1af5a",
   "metadata": {
    "ExecuteTime": {
     "end_time": "2022-04-05T22:15:08.538880Z",
     "start_time": "2022-04-05T22:15:08.523370Z"
    }
   },
   "outputs": [],
   "source": [
    "def animation_1(i):\n",
    "    line1.set_data(time1, odom_linear)\n",
    "    line2.set_data(time1, cmdvel_linear)\n",
    "    ax1.axis([time1[0]-0.2,time1[9]+0.2,-0.5,0.5])    \n",
    "    return [line1,line2]\n",
    "\n",
    "animation_1 = animation.FuncAnimation(fig1, animation_1, init_func=init, frames=100, interval=20, blit=True)"
   ]
  },
  {
   "cell_type": "markdown",
   "id": "965b5f81",
   "metadata": {},
   "source": [
    "## Angular velocity\n"
   ]
  },
  {
   "cell_type": "code",
   "execution_count": null,
   "id": "1ab4e77f",
   "metadata": {
    "ExecuteTime": {
     "end_time": "2022-04-05T22:15:26.832644Z",
     "start_time": "2022-04-05T22:15:26.813061Z"
    }
   },
   "outputs": [],
   "source": [
    "t2 = time.time() \n",
    "time2 = list(range(0, 10))\n",
    "odom_angular =list()\n",
    "cmdvel_angular=list()"
   ]
  },
  {
   "cell_type": "code",
   "execution_count": null,
   "id": "54c42a11",
   "metadata": {
    "ExecuteTime": {
     "end_time": "2022-04-05T22:15:27.735111Z",
     "start_time": "2022-04-05T22:15:27.591385Z"
    }
   },
   "outputs": [],
   "source": [
    "def init1():\n",
    "    line3.set_data([], [])\n",
    "    line4.set_data([], [])\n",
    "    return [line3,line4]\n",
    "\n",
    "def clb_odom1(msg):\n",
    "    if len(time2)>10:\n",
    "      time2.pop(0) \n",
    "    if len(odom_angular)>10:\n",
    "      odom_angular.pop(0)\n",
    "    iupsilon = np.float32(msg.twist.twist.angular.z)\n",
    "    ix = np.float32(time.time()-t2)\n",
    "    odom_angular.append(iupsilon)\n",
    "    time2.append(ix)\n",
    "    \n",
    "jr.subscribe('/odom',Odometry, clb_odom1)"
   ]
  },
  {
   "cell_type": "code",
   "execution_count": null,
   "id": "fa7c6e25",
   "metadata": {
    "ExecuteTime": {
     "end_time": "2022-04-05T22:15:28.687065Z",
     "start_time": "2022-04-05T22:15:28.481194Z"
    }
   },
   "outputs": [],
   "source": [
    "def clb_cmdvel1(msg):\n",
    "    if len(cmdvel_angular)>10:\n",
    "      cmdvel_angular.pop(0)\n",
    "    iupsilon = np.float32(msg.angular.z)\n",
    "    cmdvel_angular.append(iupsilon)\n",
    "    \n",
    "jr.subscribe('/cmd_vel', Twist, clb_cmdvel1)"
   ]
  },
  {
   "cell_type": "code",
   "execution_count": null,
   "id": "964e9d1a",
   "metadata": {
    "ExecuteTime": {
     "end_time": "2022-04-05T22:15:30.613437Z",
     "start_time": "2022-04-05T22:15:30.193278Z"
    }
   },
   "outputs": [],
   "source": [
    "fig2, ax2 = plt.subplots()\n",
    "line3, = ax2.plot([], [], color ='r', label ='/odom')\n",
    "line4, = ax2.plot([], [], color ='b', label ='/cmd_vel')\n",
    "ax2.set_xlabel('time (s)') \n",
    "ax2.set_ylabel('velocity rad/s')\n",
    "ax2.set_title(\"Angular velocity\")\n",
    "plt.legend(loc='upper right')"
   ]
  },
  {
   "cell_type": "code",
   "execution_count": null,
   "id": "69a2aca0",
   "metadata": {
    "ExecuteTime": {
     "end_time": "2022-04-05T22:16:42.332148Z",
     "start_time": "2022-04-05T22:16:42.305284Z"
    }
   },
   "outputs": [],
   "source": [
    "def animation_2(i):\n",
    "    line3.set_data(time2, odom_angular)\n",
    "    line4.set_data(time2, cmdvel_angular)\n",
    "    ax2.axis([time2[0]-0.2,time2[9]+0.2,-0.5,0.5])\n",
    "    return [line3,line4]\n",
    "\n",
    "animation_2 = animation.FuncAnimation(fig2, animation_2, init_func=init1, frames=100, interval=20, blit=True)"
   ]
  },
  {
   "cell_type": "markdown",
   "id": "1d4f57b2",
   "metadata": {},
   "source": [
    "# Bar plot displaying the number of reached targets and cancelled targets\n"
   ]
  },
  {
   "cell_type": "code",
   "execution_count": null,
   "id": "58295cdb",
   "metadata": {
    "ExecuteTime": {
     "end_time": "2022-04-05T22:18:52.341354Z",
     "start_time": "2022-04-05T22:18:52.113643Z"
    }
   },
   "outputs": [],
   "source": [
    "states = (reached,cancelled)\n",
    "index = np.arange(2)\n",
    "f1,axis2= plt.bar(index,states,width=0.5,color='g')\n",
    "plt.ylabel('Number')\n",
    "plt.title('Targets')\n",
    "plt.xticks(index, ('reached', 'cancelled'))\n",
    "plt.show()"
   ]
  },
  {
   "cell_type": "markdown",
   "id": "555042be",
   "metadata": {},
   "source": [
    "# Histogram plot showing the time required to reach targets"
   ]
  },
  {
   "cell_type": "code",
   "execution_count": null,
   "id": "211a4113",
   "metadata": {
    "ExecuteTime": {
     "end_time": "2022-04-05T22:19:16.027697Z",
     "start_time": "2022-04-05T22:19:15.831298Z"
    }
   },
   "outputs": [],
   "source": [
    "var2=list(range(0,len(data),1))\n",
    "fig2=plt.subplot(111)\n",
    "plt.bar(var2,data,width=0.5,color='b')\n",
    "plt.ylabel('time (s)')\n",
    "plt.title('Time required to reach targets')\n",
    "plt.show()"
   ]
  },
  {
   "cell_type": "markdown",
   "id": "5e565481",
   "metadata": {},
   "source": [
    "# Robot position"
   ]
  },
  {
   "cell_type": "code",
   "execution_count": null,
   "id": "da26bcf9",
   "metadata": {
    "ExecuteTime": {
     "end_time": "2022-04-05T22:19:36.958822Z",
     "start_time": "2022-04-05T22:19:36.953650Z"
    }
   },
   "outputs": [],
   "source": [
    "x_data=list()\n",
    "y_data=list()"
   ]
  },
  {
   "cell_type": "code",
   "execution_count": null,
   "id": "df050ad1",
   "metadata": {
    "ExecuteTime": {
     "end_time": "2022-04-05T22:19:38.273976Z",
     "start_time": "2022-04-05T22:19:37.945220Z"
    }
   },
   "outputs": [],
   "source": [
    "fig, ax = plt.subplots()\n",
    "ax.set_xlim(( -5, 5))\n",
    "ax.set_ylim((-5, 5))\n",
    "ax.set_xlabel('x') \n",
    "ax.set_ylabel('y')\n",
    "ax.set_title(\"Position\")\n",
    "line, = ax.plot([], [], 'ro')"
   ]
  },
  {
   "cell_type": "code",
   "execution_count": null,
   "id": "96b49b24",
   "metadata": {
    "ExecuteTime": {
     "end_time": "2022-04-05T22:19:39.435634Z",
     "start_time": "2022-04-05T22:19:39.251381Z"
    },
    "scrolled": true
   },
   "outputs": [],
   "source": [
    "def init2():\n",
    "    line.set_data([], [])\n",
    "    return (line,)\n",
    "    \n",
    "def odom_callback(msg):\n",
    "    if len(x_data)>50:\n",
    "      x_data.pop(0)     \n",
    "    if len(y_data)>50:\n",
    "      y_data.pop(0)\n",
    "    iupsilon = np.float32(msg.pose.pose.position.y)\n",
    "    x_ = np.float32(msg.pose.pose.position.x)\n",
    "    y_data.append(iupsilon)\n",
    "    x_data.append(x_)\n",
    "    \n",
    "jr.subscribe('/odom', Odometry, odom_callback)"
   ]
  },
  {
   "cell_type": "code",
   "execution_count": null,
   "id": "f5a79485",
   "metadata": {
    "ExecuteTime": {
     "end_time": "2022-04-05T22:19:41.134382Z",
     "start_time": "2022-04-05T22:19:41.125855Z"
    }
   },
   "outputs": [],
   "source": [
    "def animation_3(i):\n",
    "    line.set_data(x_data, y_data)\n",
    "    return (line,)\n",
    "\n",
    "animation_3 = animation.FuncAnimation(fig, animation_3, init_func=init2, frames=100, interval=20, blit=True)"
   ]
  }
 ],
 "metadata": {
  "hide_input": false,
  "kernelspec": {
   "display_name": "Python 3 (ipykernel)",
   "language": "python",
   "name": "python3"
  },
  "language_info": {
   "codemirror_mode": {
    "name": "ipython",
    "version": 3
   },
   "file_extension": ".py",
   "mimetype": "text/x-python",
   "name": "python",
   "nbconvert_exporter": "python",
   "pygments_lexer": "ipython3",
   "version": "3.8.10"
  },
  "toc": {
   "base_numbering": 1,
   "nav_menu": {},
   "number_sections": true,
   "sideBar": true,
   "skip_h1_title": false,
   "title_cell": "Table of Contents",
   "title_sidebar": "Contents",
   "toc_cell": false,
   "toc_position": {},
   "toc_section_display": true,
   "toc_window_display": false
  },
  "varInspector": {
   "cols": {
    "lenName": 16,
    "lenType": 16,
    "lenVar": 40
   },
   "kernels_config": {
    "python": {
     "delete_cmd_postfix": "",
     "delete_cmd_prefix": "del ",
     "library": "var_list.py",
     "varRefreshCmd": "print(var_dic_list())"
    },
    "r": {
     "delete_cmd_postfix": ") ",
     "delete_cmd_prefix": "rm(",
     "library": "var_list.r",
     "varRefreshCmd": "cat(var_dic_list()) "
    }
   },
   "types_to_exclude": [
    "module",
    "function",
    "builtin_function_or_method",
    "instance",
    "_Feature"
   ],
   "window_display": false
  }
 },
 "nbformat": 4,
 "nbformat_minor": 5
}
