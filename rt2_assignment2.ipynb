{
 "cells": [
  {
   "cell_type": "markdown",
   "id": "4053fc17",
   "metadata": {},
   "source": [
    " Import and initialize all the elements that I will need later"
   ]
  },
  {
   "cell_type": "code",
   "execution_count": 6,
   "id": "e5b5984d",
   "metadata": {
    "ExecuteTime": {
     "end_time": "2022-04-02T16:16:37.167731Z",
     "start_time": "2022-04-02T16:16:27.147230Z"
    },
    "scrolled": true
   },
   "outputs": [],
   "source": [
    "import numpy as np\n",
    "import matplotlib.pyplot as plt\n",
    "import jupyros as jr\n",
    "import ipywidgets as widgets\n",
    "\n",
    "import matplotlib\n",
    "import rospy\n",
    "import time\n",
    "import math\n",
    "import actionlib\n",
    "import rt2_assignment1.msg\n",
    "\n",
    "from rt2_assignment1.srv import Command\n",
    "from rt2_assignment1.msg import ReachGoalResult\n",
    "from matplotlib import animation, rc\n",
    "from matplotlib import animation, rc\n",
    "from matplotlib.animation import FuncAnimation\n",
    "from ipywidgets import Button, Layout, ButtonStyle, GridBox, VBox, HBox\n",
    "from IPython.display import display\n",
    "from geometry_msgs.msg import Twist\n",
    "from nav_msgs.msg import Odometry\n",
    "%matplotlib widget\n",
    "\n",
    "rospy.init_node('user_interface')\n",
    "ui_client = rospy.ServiceProxy('/user_interface', Command)\n",
    "client = actionlib.SimpleActionClient('go_to_point', rt2_assignment1.msg.ReachGoalAction)\n",
    "pub=rospy.Publisher('/cmd_vel', Twist, queue_size=1)\n",
    "time.sleep(10)\n",
    "\n",
    "active=False\n",
    "cancelled=0 \n",
    "reached=0 \n",
    "start_time=0\n",
    "stop_time=0\n",
    "data = list()"
   ]
  },
  {
   "cell_type": "markdown",
   "id": "8afe9bdf",
   "metadata": {},
   "source": [
    "Start or stop the robot using two buttons"
   ]
  },
  {
   "cell_type": "code",
   "execution_count": 7,
   "id": "f516c556",
   "metadata": {
    "ExecuteTime": {
     "end_time": "2022-04-02T16:16:37.285291Z",
     "start_time": "2022-04-02T16:16:37.231077Z"
    }
   },
   "outputs": [
    {
     "data": {
      "application/vnd.jupyter.widget-view+json": {
       "model_id": "f71ad739e01b4f3f87f4789c19f2a762",
       "version_major": 2,
       "version_minor": 0
      },
      "text/plain": [
       "GridBox(children=(Button(description='START', layout=Layout(grid_area='b1'), style=ButtonStyle(button_color='l…"
      ]
     },
     "metadata": {},
     "output_type": "display_data"
    }
   ],
   "source": [
    "start = widgets.Button(description=\"START\",\n",
    "                       layout=widgets.Layout(widht='auto',grid_area='b1'),\n",
    "                       style=widgets.ButtonStyle(button_color='lightgreen'))\n",
    "\n",
    "stop = widgets.Button(description=\"STOP\",  \n",
    "                      layout=widgets.Layout(width='auto', grid_area='b2'),\n",
    "                      style=widgets.ButtonStyle(button_color='coral'))\n",
    "\n",
    "def clicked_start(b): \n",
    "     global start_time\n",
    "     global active\n",
    "     global count\n",
    "     ui_client(\"start\")      \n",
    "     active=True\n",
    "     take=False\n",
    "     start_time=time.time()\n",
    "             \n",
    "def clicked_stop(b):\n",
    "     global cancelled\n",
    "     global stop_time\n",
    "     global active\n",
    "     global data\n",
    "     client.cancel_all_goals()\n",
    "     twist_msg = Twist()\n",
    "     twist_msg.linear.x = 0\n",
    "     twist_msg.linear.y = 0\n",
    "     twist_msg.angular.z = 0\n",
    "     #publish a zero velocity\n",
    "     pub.publish(twist_msg)\n",
    "     ui_client(\"stop\")\n",
    "     if active==True:\n",
    "         cancelled = cancelled + 1 \n",
    "         active=False\n",
    "         stop_time=time.time()\n",
    "         data.append(stop_time-start_time)\n",
    " \n",
    "start.on_click(clicked_start)\n",
    "stop.on_click(clicked_stop)\n",
    "\n",
    "widgets.GridBox(children=[start,stop],\n",
    "                layout=widgets.Layout(width='80%',grid_template_rows='auto auto auto',\n",
    "                grid_template_columns='16% 16% 16% 16% 16% 16% ',\n",
    "                grid_template_areas='''\"b1.b2 . . . \"''')\n",
    "               )"
   ]
  },
  {
   "cell_type": "code",
   "execution_count": 8,
   "id": "e40fa482",
   "metadata": {
    "ExecuteTime": {
     "end_time": "2022-04-02T16:16:37.407583Z",
     "start_time": "2022-04-02T16:16:37.348685Z"
    }
   },
   "outputs": [
    {
     "name": "stderr",
     "output_type": "stream",
     "text": [
      "Removing previous callback, only one redirection possible right now\n"
     ]
    },
    {
     "data": {
      "application/vnd.jupyter.widget-view+json": {
       "model_id": "2a742e58667d4d038bfbb4ccbc5932a4",
       "version_major": 2,
       "version_minor": 0
      },
      "text/plain": [
       "VBox(children=(HBox(children=(Button(description='Stop', style=ButtonStyle()),)), Output(layout=Layout(border=…"
      ]
     },
     "metadata": {},
     "output_type": "display_data"
    }
   ],
   "source": [
    "def reached_goal_clb(msg):\n",
    "  global reached\n",
    "  global start_time,stop_time\n",
    "  global data \n",
    "  stop_time=time.time()\n",
    "  data.append(stop_time-start_time)\n",
    "  start_time=time.time()\n",
    "  reached = reached+1\n",
    "  \n",
    "jr.subscribe('/go_to_point/result',ReachGoalResult,reached_goal_clb)"
   ]
  },
  {
   "cell_type": "markdown",
   "id": "609f617b",
   "metadata": {
    "ExecuteTime": {
     "end_time": "2022-04-01T09:31:31.176461Z",
     "start_time": "2022-04-01T09:31:31.164006Z"
    }
   },
   "source": [
    "Set the linear and angular velocity using two sliders "
   ]
  },
  {
   "cell_type": "code",
   "execution_count": 9,
   "id": "f32c4c4b",
   "metadata": {
    "ExecuteTime": {
     "end_time": "2022-04-02T16:16:49.202999Z",
     "start_time": "2022-04-02T16:16:49.149670Z"
    }
   },
   "outputs": [
    {
     "data": {
      "application/vnd.jupyter.widget-view+json": {
       "model_id": "44a7374e982548c78d6c2082a6fd9001",
       "version_major": 2,
       "version_minor": 0
      },
      "text/plain": [
       "FloatSlider(value=0.0, description='LINEAR Velocity', max=1.0, min=-1.0, style=SliderStyle(handle_color='dodge…"
      ]
     },
     "metadata": {},
     "output_type": "display_data"
    },
    {
     "data": {
      "application/vnd.jupyter.widget-view+json": {
       "model_id": "5638b91b781b463d8ac37f4b8844eee7",
       "version_major": 2,
       "version_minor": 0
      },
      "text/plain": [
       "FloatSlider(value=0.0, description='ANGULAR Velocity', max=1.0, min=-1.0, style=SliderStyle(handle_color='dodg…"
      ]
     },
     "metadata": {},
     "output_type": "display_data"
    }
   ],
   "source": [
    "msg = Twist()\n",
    "\n",
    "linear = widgets.FloatSlider(description='LINEAR Velocity' ,min=-1.0, max=1.0)\n",
    "linear.style.handle_color = 'dodgerblue'\n",
    "display(linear)\n",
    "\n",
    "angular = widgets.FloatSlider(description='ANGULAR Velocity',min=-1.0, max=1.0)\n",
    "angular.style.handle_color = 'dodgerblue'\n",
    "display(angular)\n",
    "\n",
    "\n",
    "def on_value_change(change):\n",
    "    global msg\n",
    "    msg.linear.x = change['new']\n",
    "    pub.publish(msg)\n",
    "    \n",
    "def on_valueang_change(change):\n",
    "    global msg\n",
    "    msg.angular.z = change['new']\n",
    "    pub.publish(msg)\n",
    "\n",
    "linear.observe(on_value_change, names='value')\n",
    "angular.observe(on_valueang_change, names='value')"
   ]
  },
  {
   "cell_type": "markdown",
   "id": "84fb7fe9",
   "metadata": {},
   "source": [
    "Manual robot's control using 5 buttons"
   ]
  },
  {
   "cell_type": "code",
   "execution_count": 10,
   "id": "be5c3490",
   "metadata": {
    "ExecuteTime": {
     "end_time": "2022-04-02T16:16:59.984210Z",
     "start_time": "2022-04-02T16:16:59.888389Z"
    }
   },
   "outputs": [
    {
     "data": {
      "application/vnd.jupyter.widget-view+json": {
       "model_id": "7b8bb5e3f14e45b0a73c283103c20ad2",
       "version_major": 2,
       "version_minor": 0
      },
      "text/plain": [
       "GridBox(children=(Button(icon='arrow-up', layout=Layout(grid_area='UP', width='auto'), style=ButtonStyle(butto…"
      ]
     },
     "metadata": {},
     "output_type": "display_data"
    }
   ],
   "source": [
    "UP = widgets.Button(icon=\"fa-arrow-up\", \n",
    "                    layout=Layout(width='auto', grid_area='UP'),\n",
    "                    style=ButtonStyle(button_color='gainsboro'))\n",
    "\n",
    "LEFT = widgets.Button(icon=\"fa-arrow-left\",\n",
    "                      layout=Layout(width='auto', grid_area='LEFT'),\n",
    "                      style=ButtonStyle(button_color='gainsboro'))\n",
    "\n",
    "DOWN = widgets.Button(icon=\"fa-arrow-down\",\n",
    "                      layout=Layout(width='auto', grid_area='DOWN'),\n",
    "                      style=ButtonStyle(button_color='gainsboro'))\n",
    "\n",
    "RIGHT = widgets.Button(icon=\"fa-arrow-right\",\n",
    "                       layout=Layout(width='auto', grid_area='RIGHT'),\n",
    "                       style=ButtonStyle(button_color='gainsboro'))\n",
    "\n",
    "STOP = widgets.Button(description=\"STOP\",\n",
    "                      layout=Layout(width='auto', grid_area='STOP'),\n",
    "                      style=ButtonStyle(button_color='silver'))\n",
    "\n",
    "def stop():\n",
    "     global cancelled\n",
    "     global stop_time\n",
    "     global active\n",
    "     global data\n",
    "     client.cancel_all_goals()\n",
    "     twist_msg = Twist()\n",
    "     twist_msg.linear.x = 0\n",
    "     twist_msg.linear.y = 0\n",
    "     twist_msg.angular.z = 0\n",
    "     pub.publish(twist_msg)\n",
    "     ui_client(\"stop\")\n",
    "     if active==True:\n",
    "         cancelled = cancelled + 1 \n",
    "         active=False\n",
    "         stop_time=time.time()\n",
    "         data.append(stop_time-start_time)\n",
    "        \n",
    "def click_DOWN(f):\n",
    "     stop()\n",
    "     twist_msg = Twist()\n",
    "     twist_msg.linear.x = -0.5\n",
    "     twist_msg.linear.y=0\n",
    "     twist_msg.angular.z = 0\n",
    "     pub.publish(twist_msg)\n",
    "        \n",
    "def click_UP(f):\n",
    "     stop()\n",
    "     twist_msg = Twist()\n",
    "     twist_msg.linear.x = 0.5\n",
    "     twist_msg.linear.y=0\n",
    "     twist_msg.angular.z = 0\n",
    "     pub.publish(twist_msg)\n",
    "        \n",
    "def click_LEFT(f):\n",
    "     stop()\n",
    "     twist_msg = Twist()\n",
    "     twist_msg.linear.x = 0\n",
    "     twist_msg.linear.y=0\n",
    "     twist_msg.angular.z = 0.5\n",
    "     pub.publish(twist_msg)\n",
    "        \n",
    "def click_RIGHT(f):\n",
    "     stop()\n",
    "     twist_msg = Twist()\n",
    "     twist_msg.linear.x = 0\n",
    "     twist_msg.linear.y=0\n",
    "     twist_msg.angular.z = -0.5\n",
    "     pub.publish(twist_msg)       \n",
    "    \n",
    "def click_STOP(b):\n",
    "     stop()\n",
    "     twist_msg = Twist()\n",
    "     twist_msg.linear.x = 0\n",
    "     twist_msg.linear.y=0\n",
    "     twist_msg.angular.z = 0\n",
    "     pub.publish(twist_msg)\n",
    "    \n",
    "            \n",
    "UP.on_click(click_UP)\n",
    "LEFT.on_click(click_RIGHT)\n",
    "DOWN.on_click(click_DOWN)\n",
    "RIGHT.on_click(click_LEFT)\n",
    "STOP.on_click(click_STOP)\n",
    "\n",
    "widgets.GridBox(children=[UP, DOWN, LEFT, RIGHT ,STOP],\n",
    "                layout=widgets.Layout(width='80%',grid_template_rows='auto auto auto',\n",
    "                grid_template_columns='16% 16% 16% 16% 16% 16% ',\n",
    "                grid_template_areas='''\". .  . UP  . .\"\". . LEFT STOP RIGHT . \"\" . .  . DOWN . . \"''')\n",
    "               )"
   ]
  },
  {
   "cell_type": "markdown",
   "id": "1d9825a0",
   "metadata": {},
   "source": [
    "Linear velocity"
   ]
  },
  {
   "cell_type": "code",
   "execution_count": 11,
   "id": "cc878b7c",
   "metadata": {
    "ExecuteTime": {
     "end_time": "2022-04-02T16:17:02.462777Z",
     "start_time": "2022-04-02T16:17:02.458252Z"
    }
   },
   "outputs": [],
   "source": [
    "t1 = time.time() \n",
    "time1 = list(range(0, 10))\n",
    "odom_linear =list()\n",
    "cmdvel_linear=list()"
   ]
  },
  {
   "cell_type": "code",
   "execution_count": 12,
   "id": "6ec667f4",
   "metadata": {
    "ExecuteTime": {
     "end_time": "2022-04-02T16:17:04.463620Z",
     "start_time": "2022-04-02T16:17:04.356714Z"
    },
    "scrolled": true
   },
   "outputs": [
    {
     "data": {
      "application/vnd.jupyter.widget-view+json": {
       "model_id": "1682a124565640a9ae12b97d20e9ad9a",
       "version_major": 2,
       "version_minor": 0
      },
      "text/plain": [
       "VBox(children=(HBox(children=(Button(description='Stop', style=ButtonStyle()),)), Output(layout=Layout(border=…"
      ]
     },
     "metadata": {},
     "output_type": "display_data"
    }
   ],
   "source": [
    "def init():\n",
    "    line1.set_data([], [])\n",
    "    line2.set_data([], [])\n",
    "    return [line1,line2]\n",
    "\n",
    "#odom clbk\n",
    "def clb_odom1(msg):\n",
    "    if len(time1)>10:\n",
    "      time1.pop(0)    \n",
    "    if len(odom_linear)>10:\n",
    "      odom_linear.pop(0)\n",
    "    x_ = np.float32(msg.twist.twist.linear.x)\n",
    "    y_ = np.float32(time.time()-t1)\n",
    "    #data update\n",
    "    odom_linear.append(y_)\n",
    "    time1.append(x_)\n",
    "    \n",
    "jr.subscribe('/odom', Odometry, clb_odom1)"
   ]
  },
  {
   "cell_type": "code",
   "execution_count": 13,
   "id": "aeccfb33",
   "metadata": {
    "ExecuteTime": {
     "end_time": "2022-04-02T16:17:08.511099Z",
     "start_time": "2022-04-02T16:17:08.432778Z"
    }
   },
   "outputs": [
    {
     "data": {
      "application/vnd.jupyter.widget-view+json": {
       "model_id": "a901bc25d7d34a9d91d9bf8afcc40e5d",
       "version_major": 2,
       "version_minor": 0
      },
      "text/plain": [
       "VBox(children=(HBox(children=(Button(description='Stop', style=ButtonStyle()),)), Output(layout=Layout(border=…"
      ]
     },
     "metadata": {},
     "output_type": "display_data"
    }
   ],
   "source": [
    "def clb_cmdvel1(msg):\n",
    "    if len(cmdvel_linear)>10:\n",
    "      cmdvel_linear.pop(0)\n",
    "    y_ = np.float32(msg.linear.x)\n",
    "    cmdvel_linear.append(y_)\n",
    "    \n",
    "jr.subscribe('/cmd_vel', Twist, clb_cmdvel1)"
   ]
  },
  {
   "cell_type": "code",
   "execution_count": 16,
   "id": "30e67c7b",
   "metadata": {
    "ExecuteTime": {
     "end_time": "2022-04-02T16:18:42.316398Z",
     "start_time": "2022-04-02T16:18:42.028333Z"
    }
   },
   "outputs": [
    {
     "data": {
      "text/plain": [
       "<matplotlib.legend.Legend at 0x7f2367661b50>"
      ]
     },
     "execution_count": 16,
     "metadata": {},
     "output_type": "execute_result"
    },
    {
     "data": {
      "application/vnd.jupyter.widget-view+json": {
       "model_id": "a636c69e1a064b43bb00994edd7593b9",
       "version_major": 2,
       "version_minor": 0
      },
      "image/png": "[encoded data removed]",
      "text/html": [
       "\n",
       "            <div style=\"display: inline-block;\">\n",
       "                <div class=\"jupyter-widgets widget-label\" style=\"text-align: center;\">\n",
       "                    Figure\n",
       "                </div>\n",
       "                <img src='data:image/png;base64,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' width=640.0/>\n",
       "            </div>\n",
       "        "
      ],
      "text/plain": [
       "Canvas(toolbar=Toolbar(toolitems=[('Home', 'Reset original view', 'home', 'home'), ('Back', 'Back to previous …"
      ]
     },
     "metadata": {},
     "output_type": "display_data"
    }
   ],
   "source": [
    "fig1,ax1 = plt.subplots()\n",
    "\n",
    "ax1.set_xlabel('time (s)') \n",
    "ax1.set_ylabel('velocity m/s')\n",
    "ax1.set_title(\"Linear velocity\")\n",
    "line1, = ax1.plot([], [], color ='r', label ='/odom')\n",
    "line2, = ax1.plot([], [], color ='b', label ='/cmd_vel')\n",
    "plt.legend(loc='upper right')"
   ]
  },
  {
   "cell_type": "code",
   "execution_count": 17,
   "id": "8ab1af5a",
   "metadata": {
    "ExecuteTime": {
     "end_time": "2022-04-02T16:18:51.477336Z",
     "start_time": "2022-04-02T16:18:51.467476Z"
    }
   },
   "outputs": [],
   "source": [
    "def animate1(i):\n",
    "    #refresh of line\n",
    "    line1.set_data(time1, odom_linear)\n",
    "    line2.set_data(time1, cmdvel_linear)\n",
    "    ax1.axis([time1[0]-0.2,time1[9]+0.2,-0.5,0.5])    \n",
    "    return [line1,line2]\n",
    "\n",
    "#animator\n",
    "anim1 = animation.FuncAnimation(fig1, animate1, init_func=init,\n",
    "                               frames=100, interval=20, blit=True)"
   ]
  },
  {
   "cell_type": "markdown",
   "id": "965b5f81",
   "metadata": {},
   "source": [
    "Angular velocity"
   ]
  },
  {
   "cell_type": "code",
   "execution_count": 18,
   "id": "1ab4e77f",
   "metadata": {
    "ExecuteTime": {
     "end_time": "2022-04-02T16:18:54.982462Z",
     "start_time": "2022-04-02T16:18:54.975177Z"
    }
   },
   "outputs": [],
   "source": [
    "t2 = time.time() \n",
    "time2 = list(range(0, 10))\n",
    "odom_angular =list()\n",
    "cmdvel_angular=list()"
   ]
  },
  {
   "cell_type": "code",
   "execution_count": 19,
   "id": "54c42a11",
   "metadata": {
    "ExecuteTime": {
     "end_time": "2022-04-02T16:18:55.963599Z",
     "start_time": "2022-04-02T16:18:55.904600Z"
    }
   },
   "outputs": [
    {
     "name": "stderr",
     "output_type": "stream",
     "text": [
      "Removing previous callback, only one redirection possible right now\n"
     ]
    },
    {
     "data": {
      "application/vnd.jupyter.widget-view+json": {
       "model_id": "e0cfc322a7884027b433e4f5e557ab18",
       "version_major": 2,
       "version_minor": 0
      },
      "text/plain": [
       "VBox(children=(HBox(children=(Button(description='Stop', style=ButtonStyle()),)), Output(layout=Layout(border=…"
      ]
     },
     "metadata": {},
     "output_type": "display_data"
    }
   ],
   "source": [
    "def init1():\n",
    "    line3.set_data([], [])\n",
    "    line4.set_data([], [])\n",
    "    return [line3,line4]\n",
    "\n",
    "def clb_odom2(msg):\n",
    "    if len(time2)>10:\n",
    "      time2.pop(0)\n",
    "     \n",
    "    if len(odom_angular)>10:\n",
    "      odom_angular.pop(0)\n",
    "    iupsilon = np.float32(msg.twist.twist.angular.z)\n",
    "    ix = np.float32(time.time()-t2)\n",
    "    odom_angular.append(iupsilon)\n",
    "    time2.append(ix)\n",
    "    \n",
    "jr.subscribe('/odom',Odometry, clb_odom2)"
   ]
  },
  {
   "cell_type": "code",
   "execution_count": 20,
   "id": "fa7c6e25",
   "metadata": {
    "ExecuteTime": {
     "end_time": "2022-04-02T16:18:57.328698Z",
     "start_time": "2022-04-02T16:18:57.232442Z"
    }
   },
   "outputs": [
    {
     "name": "stderr",
     "output_type": "stream",
     "text": [
      "Removing previous callback, only one redirection possible right now\n"
     ]
    },
    {
     "data": {
      "application/vnd.jupyter.widget-view+json": {
       "model_id": "9ff5679dfbf34f0d8b9c3f228903aff9",
       "version_major": 2,
       "version_minor": 0
      },
      "text/plain": [
       "VBox(children=(HBox(children=(Button(description='Stop', style=ButtonStyle()),)), Output(layout=Layout(border=…"
      ]
     },
     "metadata": {},
     "output_type": "display_data"
    }
   ],
   "source": [
    "def clb_cmdvel2(msg):\n",
    "    if len(cmdvel_angular)>10:\n",
    "      cmdvel_angular.pop(0)\n",
    "    iupsilon = np.float32(msg.angular.z)\n",
    "    cmdvel_angular.append(iupsilon)\n",
    "    \n",
    "\n",
    "jr.subscribe('/cmd_vel', Twist, clb_cmdvel2)"
   ]
  },
  {
   "cell_type": "code",
   "execution_count": 21,
   "id": "964e9d1a",
   "metadata": {
    "ExecuteTime": {
     "end_time": "2022-04-02T16:18:58.919513Z",
     "start_time": "2022-04-02T16:18:58.681921Z"
    }
   },
   "outputs": [
    {
     "data": {
      "text/plain": [
       "<matplotlib.legend.Legend at 0x7f2367105430>"
      ]
     },
     "execution_count": 21,
     "metadata": {},
     "output_type": "execute_result"
    },
    {
     "data": {
      "application/vnd.jupyter.widget-view+json": {
       "model_id": "35e867e88f4046bc81aa791f71e0c636",
       "version_major": 2,
       "version_minor": 0
      },
      "image/png": "[encoded data removed]",
      "text/html": [
       "\n",
       "            <div style=\"display: inline-block;\">\n",
       "                <div class=\"jupyter-widgets widget-label\" style=\"text-align: center;\">\n",
       "                    Figure\n",
       "                </div>\n",
       "                <img src='data:image/png;base64,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' width=640.0/>\n",
       "            </div>\n",
       "        "
      ],
      "text/plain": [
       "Canvas(toolbar=Toolbar(toolitems=[('Home', 'Reset original view', 'home', 'home'), ('Back', 'Back to previous …"
      ]
     },
     "metadata": {},
     "output_type": "display_data"
    }
   ],
   "source": [
    "fig2, ax2 = plt.subplots()\n",
    "\n",
    "line3, = ax2.plot([], [], color ='r', label ='/odom')\n",
    "line4, = ax2.plot([], [], color ='b', label ='/cmd_vel')\n",
    "ax2.set_xlabel('time (s)') \n",
    "ax2.set_ylabel('velocity rad/s')\n",
    "ax2.set_title(\"Angular velocity\")\n",
    "plt.legend(loc='upper right')"
   ]
  },
  {
   "cell_type": "code",
   "execution_count": 22,
   "id": "69a2aca0",
   "metadata": {
    "ExecuteTime": {
     "end_time": "2022-04-02T16:19:01.439897Z",
     "start_time": "2022-04-02T16:19:01.430759Z"
    }
   },
   "outputs": [],
   "source": [
    "def animate2(i):\n",
    "    line3.set_data(time2, odom_angular)\n",
    "    line4.set_data(time2, cmdvel_angular)\n",
    "    ax2.axis([time2[0]-0.2,time2[9]+0.2,-0.5,0.5])\n",
    "    return [line3,line4]\n",
    "\n",
    "anim2 = animation.FuncAnimation(fig2, animate2, init_func=init1,\n",
    "                               frames=100, interval=20, blit=True)"
   ]
  },
  {
   "cell_type": "markdown",
   "id": "1d4f57b2",
   "metadata": {},
   "source": [
    "barplot visualization of reached targets and cancelled targets\n"
   ]
  },
  {
   "cell_type": "code",
   "execution_count": 23,
   "id": "58295cdb",
   "metadata": {
    "ExecuteTime": {
     "end_time": "2022-04-02T16:19:26.866304Z",
     "start_time": "2022-04-02T16:19:26.744072Z"
    }
   },
   "outputs": [
    {
     "data": {
      "application/vnd.jupyter.widget-view+json": {
       "model_id": "35e867e88f4046bc81aa791f71e0c636",
       "version_major": 2,
       "version_minor": 0
      },
      "image/png": "[encoded data removed]",
      "text/html": [
       "\n",
       "            <div style=\"display: inline-block;\">\n",
       "                <div class=\"jupyter-widgets widget-label\" style=\"text-align: center;\">\n",
       "                    Figure 3\n",
       "                </div>\n",
       "                <img src='data:image/png;base64,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' width=640.0/>\n",
       "            </div>\n",
       "        "
      ],
      "text/plain": [
       "Canvas(toolbar=Toolbar(toolitems=[('Home', 'Reset original view', 'home', 'home'), ('Back', 'Back to previous …"
      ]
     },
     "metadata": {},
     "output_type": "display_data"
    }
   ],
   "source": [
    "states = (reached,cancelled)\n",
    "index = np.arange(2)\n",
    "\n",
    "f1,axis2= plt.bar(index,states,width=0.5,color='g')\n",
    "plt.ylabel('Number')\n",
    "plt.title('Targets')\n",
    "plt.xticks(index, ('reached', 'cancelled'))\n",
    "plt.show()"
   ]
  },
  {
   "cell_type": "markdown",
   "id": "555042be",
   "metadata": {},
   "source": [
    "histogram visualization"
   ]
  },
  {
   "cell_type": "code",
   "execution_count": 24,
   "id": "211a4113",
   "metadata": {
    "ExecuteTime": {
     "end_time": "2022-04-02T16:19:57.752224Z",
     "start_time": "2022-04-02T16:19:57.602487Z"
    }
   },
   "outputs": [
    {
     "data": {
      "application/vnd.jupyter.widget-view+json": {
       "model_id": "35e867e88f4046bc81aa791f71e0c636",
       "version_major": 2,
       "version_minor": 0
      },
      "image/png": "[encoded data removed]",
      "text/html": [
       "\n",
       "            <div style=\"display: inline-block;\">\n",
       "                <div class=\"jupyter-widgets widget-label\" style=\"text-align: center;\">\n",
       "                    Figure 3\n",
       "                </div>\n",
       "                <img src='data:image/png;base64,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' width=640.0/>\n",
       "            </div>\n",
       "        "
      ],
      "text/plain": [
       "Canvas(toolbar=Toolbar(toolitems=[('Home', 'Reset original view', 'home', 'home'), ('Back', 'Back to previous …"
      ]
     },
     "metadata": {},
     "output_type": "display_data"
    }
   ],
   "source": [
    "var2=list(range(0,len(data),1))\n",
    "fig2=plt.subplot(111)\n",
    "plt.bar(var2,data,width=0.5,color='b')\n",
    "plt.ylabel('time (s)')\n",
    "plt.title('Time required to reach targets')\n",
    "plt.show()"
   ]
  },
  {
   "cell_type": "markdown",
   "id": "5e565481",
   "metadata": {},
   "source": [
    "Show position"
   ]
  },
  {
   "cell_type": "code",
   "execution_count": 21,
   "id": "da26bcf9",
   "metadata": {
    "ExecuteTime": {
     "end_time": "2022-04-02T15:19:04.021898Z",
     "start_time": "2022-04-02T15:19:04.003744Z"
    }
   },
   "outputs": [],
   "source": [
    "x_data=list()\n",
    "y_data=list()"
   ]
  },
  {
   "cell_type": "code",
   "execution_count": 22,
   "id": "df050ad1",
   "metadata": {
    "ExecuteTime": {
     "end_time": "2022-04-02T15:19:06.455996Z",
     "start_time": "2022-04-02T15:19:06.003050Z"
    }
   },
   "outputs": [
    {
     "data": {
      "application/vnd.jupyter.widget-view+json": {
       "model_id": "dbce500da3f944fd8dc8f6b4e63a1f12",
       "version_major": 2,
       "version_minor": 0
      },
      "image/png": "[encoded data removed]",
      "text/html": [
       "\n",
       "            <div style=\"display: inline-block;\">\n",
       "                <div class=\"jupyter-widgets widget-label\" style=\"text-align: center;\">\n",
       "                    Figure\n",
       "                </div>\n",
       "                <img src='data:image/png;base64,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' width=640.0/>\n",
       "            </div>\n",
       "        "
      ],
      "text/plain": [
       "Canvas(toolbar=Toolbar(toolitems=[('Home', 'Reset original view', 'home', 'home'), ('Back', 'Back to previous …"
      ]
     },
     "metadata": {},
     "output_type": "display_data"
    }
   ],
   "source": [
    "fig, ax = plt.subplots()\n",
    "\n",
    "ax.set_xlim(( -5, 5))\n",
    "ax.set_ylim((-5, 5))\n",
    "ax.set_xlabel('x') \n",
    "ax.set_ylabel('y')\n",
    "ax.set_title(\"Position\")\n",
    "line, = ax.plot([], [], 'ro')"
   ]
  },
  {
   "cell_type": "code",
   "execution_count": 23,
   "id": "96b49b24",
   "metadata": {
    "ExecuteTime": {
     "end_time": "2022-04-02T15:19:12.696476Z",
     "start_time": "2022-04-02T15:19:12.549038Z"
    },
    "scrolled": true
   },
   "outputs": [
    {
     "name": "stderr",
     "output_type": "stream",
     "text": [
      "Removing previous callback, only one redirection possible right now\n"
     ]
    },
    {
     "data": {
      "application/vnd.jupyter.widget-view+json": {
       "model_id": "1500c7165c734e159a3f9e48ba283218",
       "version_major": 2,
       "version_minor": 0
      },
      "text/plain": [
       "VBox(children=(HBox(children=(Button(description='Stop', style=ButtonStyle()),)), Output(layout=Layout(border=…"
      ]
     },
     "metadata": {},
     "output_type": "display_data"
    }
   ],
   "source": [
    "def init2():\n",
    "    line.set_data([], [])\n",
    "    return (line,)\n",
    "    \n",
    "def odom_callback(msg):\n",
    "    if len(x_data)>50:\n",
    "      x_data.pop(0)\n",
    "      \n",
    "    if len(y_data)>50:\n",
    "      y_data.pop(0)\n",
    "    \n",
    "    iupsilon = np.float32(msg.pose.pose.position.y)\n",
    "    ix = np.float32(msg.pose.pose.position.x)\n",
    "    y_data.append(iupsilon)\n",
    "    x_data.append(ix)\n",
    "    \n",
    "jr.subscribe('/odom', Odometry, odom_callback)"
   ]
  },
  {
   "cell_type": "code",
   "execution_count": 24,
   "id": "f5a79485",
   "metadata": {
    "ExecuteTime": {
     "end_time": "2022-04-02T15:19:17.136051Z",
     "start_time": "2022-04-02T15:19:17.124794Z"
    }
   },
   "outputs": [],
   "source": [
    "def animate(i):\n",
    "    line.set_data(x_data, y_data)\n",
    "    return (line,)\n",
    "\n",
    "anim = animation.FuncAnimation(fig, animate, init_func=init2,\n",
    "                               frames=100, interval=20, blit=True)"
   ]
  }
 ],
 "metadata": {
  "hide_input": false,
  "kernelspec": {
   "display_name": "Python 3 (ipykernel)",
   "language": "python",
   "name": "python3"
  },
  "language_info": {
   "codemirror_mode": {
    "name": "ipython",
    "version": 3
   },
   "file_extension": ".py",
   "mimetype": "text/x-python",
   "name": "python",
   "nbconvert_exporter": "python",
   "pygments_lexer": "ipython3",
   "version": "3.8.10"
  },
  "toc": {
   "base_numbering": 1,
   "nav_menu": {},
   "number_sections": true,
   "sideBar": true,
   "skip_h1_title": false,
   "title_cell": "Table of Contents",
   "title_sidebar": "Contents",
   "toc_cell": false,
   "toc_position": {},
   "toc_section_display": true,
   "toc_window_display": false
  },
  "varInspector": {
   "cols": {
    "lenName": 16,
    "lenType": 16,
    "lenVar": 40
   },
   "kernels_config": {
    "python": {
     "delete_cmd_postfix": "",
     "delete_cmd_prefix": "del ",
     "library": "var_list.py",
     "varRefreshCmd": "print(var_dic_list())"
    },
    "r": {
     "delete_cmd_postfix": ") ",
     "delete_cmd_prefix": "rm(",
     "library": "var_list.r",
     "varRefreshCmd": "cat(var_dic_list()) "
    }
   },
   "types_to_exclude": [
    "module",
    "function",
    "builtin_function_or_method",
    "instance",
    "_Feature"
   ],
   "window_display": false
  }
 },
 "nbformat": 4,
 "nbformat_minor": 5
}
