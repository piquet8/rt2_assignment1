{
 "cells": [
  {
   "cell_type": "markdown",
   "id": "4053fc17",
   "metadata": {},
   "source": [
    " # Import and initialize all the elements that I will need later"
   ]
  },
  {
   "cell_type": "code",
   "execution_count": 16,
   "id": "e5b5984d",
   "metadata": {
    "ExecuteTime": {
     "end_time": "2022-04-02T20:31:39.776181Z",
     "start_time": "2022-04-02T20:31:29.737357Z"
    },
    "scrolled": true
   },
   "outputs": [],
   "source": [
    "import numpy as np\n",
    "import matplotlib.pyplot as plt\n",
    "import jupyros as jr\n",
    "import ipywidgets as widgets\n",
    "\n",
    "import matplotlib\n",
    "import rospy\n",
    "import time\n",
    "import math\n",
    "import actionlib\n",
    "import rt2_assignment1.msg\n",
    "\n",
    "from rt2_assignment1.srv import Command\n",
    "from rt2_assignment1.msg import ReachGoalResult\n",
    "from matplotlib import animation, rc\n",
    "from matplotlib import animation, rc\n",
    "from matplotlib.animation import FuncAnimation\n",
    "from ipywidgets import Button, Layout, ButtonStyle, GridBox, VBox, HBox\n",
    "from IPython.display import display\n",
    "from geometry_msgs.msg import Twist\n",
    "from nav_msgs.msg import Odometry\n",
    "%matplotlib widget\n",
    "\n",
    "rospy.init_node('user_interface')\n",
    "ui_client = rospy.ServiceProxy('/user_interface', Command)\n",
    "client = actionlib.SimpleActionClient('go_to_point', rt2_assignment1.msg.ReachGoalAction)\n",
    "pub=rospy.Publisher('/cmd_vel', Twist, queue_size=1)\n",
    "time.sleep(10)\n",
    "\n",
    "active=False\n",
    "cancelled=0 \n",
    "reached=0 \n",
    "start_time=0\n",
    "stop_time=0\n",
    "data = list()"
   ]
  },
  {
   "cell_type": "markdown",
   "id": "8afe9bdf",
   "metadata": {},
   "source": [
    "# Start or stop the robot using two buttons"
   ]
  },
  {
   "cell_type": "code",
   "execution_count": 17,
   "id": "f516c556",
   "metadata": {
    "ExecuteTime": {
     "end_time": "2022-04-02T20:31:39.991987Z",
     "start_time": "2022-04-02T20:31:39.892350Z"
    }
   },
   "outputs": [
    {
     "data": {
      "application/vnd.jupyter.widget-view+json": {
       "model_id": "a2d9d5bdaae742138baf5356b49fcb08",
       "version_major": 2,
       "version_minor": 0
      },
      "text/plain": [
       "GridBox(children=(Button(description='START', layout=Layout(grid_area='b1'), style=ButtonStyle(button_color='l…"
      ]
     },
     "metadata": {},
     "output_type": "display_data"
    }
   ],
   "source": [
    "start = widgets.Button(description=\"START\",\n",
    "                       layout=widgets.Layout(widht='auto',grid_area='b1'),\n",
    "                       style=widgets.ButtonStyle(button_color='lightgreen'))\n",
    "\n",
    "stop = widgets.Button(description=\"STOP\",  \n",
    "                      layout=widgets.Layout(width='auto', grid_area='b2'),\n",
    "                      style=widgets.ButtonStyle(button_color='coral'))\n",
    "\n",
    "def clicked_start(b): \n",
    "     global start_time\n",
    "     global active\n",
    "     global count\n",
    "     ui_client(\"start\")      \n",
    "     active=True\n",
    "     take=False\n",
    "     start_time=time.time()\n",
    "             \n",
    "def clicked_stop(b):\n",
    "     global cancelled\n",
    "     global stop_time\n",
    "     global active\n",
    "     global data\n",
    "     client.cancel_all_goals()\n",
    "     twist_msg = Twist()\n",
    "     twist_msg.linear.x = 0\n",
    "     twist_msg.linear.y = 0\n",
    "     twist_msg.angular.z = 0\n",
    "     pub.publish(twist_msg)\n",
    "     ui_client(\"stop\")\n",
    "     if active==True:\n",
    "         cancelled = cancelled + 1 \n",
    "         active=False\n",
    "         stop_time=time.time()\n",
    "         data.append(stop_time-start_time)\n",
    " \n",
    "start.on_click(clicked_start)\n",
    "stop.on_click(clicked_stop)\n",
    "\n",
    "widgets.GridBox(children=[start,stop],\n",
    "                layout=widgets.Layout(width='80%',grid_template_rows='auto auto auto',\n",
    "                grid_template_columns='16% 16% 16% 16% 16% 16% ',\n",
    "                grid_template_areas='''\"b1.b2 . . . \"''')\n",
    "               )"
   ]
  },
  {
   "cell_type": "code",
   "execution_count": 19,
   "id": "e40fa482",
   "metadata": {
    "ExecuteTime": {
     "end_time": "2022-04-02T20:32:07.441883Z",
     "start_time": "2022-04-02T20:32:07.368974Z"
    }
   },
   "outputs": [
    {
     "name": "stderr",
     "output_type": "stream",
     "text": [
      "Removing previous callback, only one redirection possible right now\n"
     ]
    },
    {
     "data": {
      "application/vnd.jupyter.widget-view+json": {
       "model_id": "3f74e8cb285b48088fa66245efdd19d8",
       "version_major": 2,
       "version_minor": 0
      },
      "text/plain": [
       "VBox(children=(HBox(children=(Button(description='Stop', style=ButtonStyle()),)), Output(layout=Layout(border=…"
      ]
     },
     "metadata": {},
     "output_type": "display_data"
    }
   ],
   "source": [
    "def reached_goal_clb(msg):\n",
    "  global reached\n",
    "  global start_time,stop_time\n",
    "  global data \n",
    "  stop_time=time.time()\n",
    "  data.append(stop_time-start_time)\n",
    "  start_time=time.time()\n",
    "  reached = reached+1\n",
    "  \n",
    "jr.subscribe('/go_to_point/result',ReachGoalResult,reached_goal_clb)"
   ]
  },
  {
   "cell_type": "markdown",
   "id": "609f617b",
   "metadata": {
    "ExecuteTime": {
     "end_time": "2022-04-01T09:31:31.176461Z",
     "start_time": "2022-04-01T09:31:31.164006Z"
    }
   },
   "source": [
    "# Set the linear and angular velocity using two sliders "
   ]
  },
  {
   "cell_type": "code",
   "execution_count": 26,
   "id": "f32c4c4b",
   "metadata": {
    "ExecuteTime": {
     "end_time": "2022-04-02T20:51:38.182713Z",
     "start_time": "2022-04-02T20:51:38.080453Z"
    }
   },
   "outputs": [
    {
     "data": {
      "application/vnd.jupyter.widget-view+json": {
       "model_id": "a0b3ea57b1ec422ba9dcc9d647467226",
       "version_major": 2,
       "version_minor": 0
      },
      "text/plain": [
       "FloatSlider(value=0.0, description='LINEAR Velocity', max=1.0, min=-1.0, style=SliderStyle(handle_color='dodge…"
      ]
     },
     "metadata": {},
     "output_type": "display_data"
    },
    {
     "data": {
      "application/vnd.jupyter.widget-view+json": {
       "model_id": "581141bf6dca47eb8074e4511f93596e",
       "version_major": 2,
       "version_minor": 0
      },
      "text/plain": [
       "FloatSlider(value=0.0, description='ANGULAR Velocity', max=1.0, min=-1.0, style=SliderStyle(handle_color='dodg…"
      ]
     },
     "metadata": {},
     "output_type": "display_data"
    }
   ],
   "source": [
    "def stop():\n",
    "     global cancelled\n",
    "     global stop_time\n",
    "     global active\n",
    "     global data\n",
    "     client.cancel_all_goals()\n",
    "     twist_msg = Twist()\n",
    "     twist_msg.linear.x = 0\n",
    "     twist_msg.linear.y = 0\n",
    "     twist_msg.angular.z = 0\n",
    "     pub.publish(twist_msg)\n",
    "     ui_client(\"stop\")\n",
    "     if active==True:\n",
    "         cancelled = cancelled + 1 \n",
    "         active=False\n",
    "         stop_time=time.time()\n",
    "         data.append(stop_time-start_time)\n",
    "    \n",
    "stop()\n",
    "\n",
    "msg = Twist()\n",
    "linear = widgets.FloatSlider(description='LINEAR Velocity' ,min=-1.0, max=1.0)\n",
    "linear.style.handle_color = 'dodgerblue'\n",
    "display(linear)\n",
    "angular = widgets.FloatSlider(description='ANGULAR Velocity',min=-1.0, max=1.0)\n",
    "angular.style.handle_color = 'dodgerblue'\n",
    "display(angular)\n",
    "\n",
    "\n",
    "def on_value_change(change):\n",
    "    global msg\n",
    "    msg.linear.x = change['new']\n",
    "    pub.publish(msg)\n",
    "    \n",
    "def on_valueang_change(change):\n",
    "    global msg\n",
    "    msg.angular.z = change['new']\n",
    "    pub.publish(msg)\n",
    "\n",
    "linear.observe(on_value_change, names='value')\n",
    "angular.observe(on_valueang_change, names='value')"
   ]
  },
  {
   "cell_type": "markdown",
   "id": "84fb7fe9",
   "metadata": {},
   "source": [
    "# Manual robot's control using 5 buttons"
   ]
  },
  {
   "cell_type": "code",
   "execution_count": 22,
   "id": "be5c3490",
   "metadata": {
    "ExecuteTime": {
     "end_time": "2022-04-02T20:47:52.476044Z",
     "start_time": "2022-04-02T20:47:52.299455Z"
    }
   },
   "outputs": [
    {
     "data": {
      "application/vnd.jupyter.widget-view+json": {
       "model_id": "80c9754a68cd4bf0a96f9a7d0e01f9b5",
       "version_major": 2,
       "version_minor": 0
      },
      "text/plain": [
       "GridBox(children=(Button(icon='arrow-up', layout=Layout(grid_area='UP', width='auto'), style=ButtonStyle(butto…"
      ]
     },
     "metadata": {},
     "output_type": "display_data"
    }
   ],
   "source": [
    "UP = widgets.Button(icon=\"fa-arrow-up\", \n",
    "                    layout=Layout(width='auto', grid_area='UP'),\n",
    "                    style=ButtonStyle(button_color='gainsboro'))\n",
    "\n",
    "LEFT = widgets.Button(icon=\"fa-arrow-left\",\n",
    "                      layout=Layout(width='auto', grid_area='LEFT'),\n",
    "                      style=ButtonStyle(button_color='gainsboro'))\n",
    "\n",
    "DOWN = widgets.Button(icon=\"fa-arrow-down\",\n",
    "                      layout=Layout(width='auto', grid_area='DOWN'),\n",
    "                      style=ButtonStyle(button_color='gainsboro'))\n",
    "\n",
    "RIGHT = widgets.Button(icon=\"fa-arrow-right\",\n",
    "                       layout=Layout(width='auto', grid_area='RIGHT'),\n",
    "                       style=ButtonStyle(button_color='gainsboro'))\n",
    "\n",
    "STOP = widgets.Button(description=\"STOP\",\n",
    "                      layout=Layout(width='auto', grid_area='STOP'),\n",
    "                      style=ButtonStyle(button_color='silver'))\n",
    "\n",
    "def stop():\n",
    "     global cancelled\n",
    "     global stop_time\n",
    "     global active\n",
    "     global data\n",
    "     client.cancel_all_goals()\n",
    "     twist_msg = Twist()\n",
    "     twist_msg.linear.x = 0\n",
    "     twist_msg.linear.y = 0\n",
    "     twist_msg.angular.z = 0\n",
    "     pub.publish(twist_msg)\n",
    "     ui_client(\"stop\")\n",
    "     if active==True:\n",
    "         cancelled = cancelled + 1 \n",
    "         active=False\n",
    "         stop_time=time.time()\n",
    "         data.append(stop_time-start_time)\n",
    "        \n",
    "def click_DOWN(f):\n",
    "     stop()\n",
    "     twist_msg = Twist()\n",
    "     twist_msg.linear.x = -0.5\n",
    "     twist_msg.linear.y=0\n",
    "     twist_msg.angular.z = 0\n",
    "     pub.publish(twist_msg)\n",
    "        \n",
    "def click_UP(f):\n",
    "     stop()\n",
    "     twist_msg = Twist()\n",
    "     twist_msg.linear.x = 0.5\n",
    "     twist_msg.linear.y=0\n",
    "     twist_msg.angular.z = 0\n",
    "     pub.publish(twist_msg)\n",
    "        \n",
    "def click_LEFT(f):\n",
    "     stop()\n",
    "     twist_msg = Twist()\n",
    "     twist_msg.linear.x = 0\n",
    "     twist_msg.linear.y=0\n",
    "     twist_msg.angular.z = 0.5\n",
    "     pub.publish(twist_msg)\n",
    "        \n",
    "def click_RIGHT(f):\n",
    "     stop()\n",
    "     twist_msg = Twist()\n",
    "     twist_msg.linear.x = 0\n",
    "     twist_msg.linear.y=0\n",
    "     twist_msg.angular.z = -0.5\n",
    "     pub.publish(twist_msg)       \n",
    "    \n",
    "def click_STOP(b):\n",
    "     stop()\n",
    "     twist_msg = Twist()\n",
    "     twist_msg.linear.x = 0\n",
    "     twist_msg.linear.y=0\n",
    "     twist_msg.angular.z = 0\n",
    "     pub.publish(twist_msg)\n",
    "            \n",
    "UP.on_click(click_UP)\n",
    "LEFT.on_click(click_RIGHT)\n",
    "DOWN.on_click(click_DOWN)\n",
    "RIGHT.on_click(click_LEFT)\n",
    "STOP.on_click(click_STOP)\n",
    "\n",
    "widgets.GridBox(children=[UP, DOWN, LEFT, RIGHT ,STOP],\n",
    "                layout=widgets.Layout(width='80%',grid_template_rows='auto auto auto',\n",
    "                grid_template_columns='16% 16% 16% 16% 16% 16% ',\n",
    "                grid_template_areas='''\". .  . UP  . .\"\". . LEFT STOP RIGHT . \"\" . .  . DOWN . . \"''')\n",
    "               )"
   ]
  },
  {
   "cell_type": "markdown",
   "id": "1d9825a0",
   "metadata": {},
   "source": [
    "# Linear velocity"
   ]
  },
  {
   "cell_type": "code",
   "execution_count": 6,
   "id": "cc878b7c",
   "metadata": {
    "ExecuteTime": {
     "end_time": "2022-04-02T20:31:15.633552Z",
     "start_time": "2022-04-02T20:31:15.593142Z"
    }
   },
   "outputs": [],
   "source": [
    "t1 = time.time() \n",
    "time1 = list(range(0, 10))\n",
    "odom_linear =list()\n",
    "cmdvel_linear=list()"
   ]
  },
  {
   "cell_type": "code",
   "execution_count": 7,
   "id": "6ec667f4",
   "metadata": {
    "ExecuteTime": {
     "end_time": "2022-04-02T20:31:15.927965Z",
     "start_time": "2022-04-02T20:31:15.767282Z"
    },
    "scrolled": true
   },
   "outputs": [
    {
     "data": {
      "application/vnd.jupyter.widget-view+json": {
       "model_id": "d6b0211a19bd48c7ab7d0580426e915a",
       "version_major": 2,
       "version_minor": 0
      },
      "text/plain": [
       "VBox(children=(HBox(children=(Button(description='Stop', style=ButtonStyle()),)), Output(layout=Layout(border=…"
      ]
     },
     "metadata": {},
     "output_type": "display_data"
    }
   ],
   "source": [
    "def init():\n",
    "    line1.set_data([], [])\n",
    "    line2.set_data([], [])\n",
    "    return [line1,line2]\n",
    "\n",
    "def clb_odom(msg):\n",
    "    if len(time1)>10:\n",
    "      time1.pop(0)    \n",
    "    if len(odom_linear)>10:\n",
    "      odom_linear.pop(0)\n",
    "    x_ = np.float32(msg.twist.twist.linear.x)\n",
    "    y_ = np.float32(time.time()-t1)\n",
    "    odom_linear.append(y_)\n",
    "    time1.append(x_)\n",
    "    \n",
    "jr.subscribe('/odom', Odometry, clb_odom)"
   ]
  },
  {
   "cell_type": "code",
   "execution_count": 8,
   "id": "aeccfb33",
   "metadata": {
    "ExecuteTime": {
     "end_time": "2022-04-02T20:31:16.327127Z",
     "start_time": "2022-04-02T20:31:16.077965Z"
    }
   },
   "outputs": [
    {
     "data": {
      "application/vnd.jupyter.widget-view+json": {
       "model_id": "1f4949b23a0e493c9b8ee0b7d3b703fc",
       "version_major": 2,
       "version_minor": 0
      },
      "text/plain": [
       "VBox(children=(HBox(children=(Button(description='Stop', style=ButtonStyle()),)), Output(layout=Layout(border=…"
      ]
     },
     "metadata": {},
     "output_type": "display_data"
    }
   ],
   "source": [
    "def clb_cmdvel(msg):\n",
    "    if len(cmdvel_linear)>10:\n",
    "      cmdvel_linear.pop(0)\n",
    "    y_ = np.float32(msg.linear.x)\n",
    "    cmdvel_linear.append(y_)\n",
    "    \n",
    "jr.subscribe('/cmd_vel', Twist, clb_cmdvel)"
   ]
  },
  {
   "cell_type": "code",
   "execution_count": 9,
   "id": "30e67c7b",
   "metadata": {
    "ExecuteTime": {
     "end_time": "2022-04-02T20:31:16.960940Z",
     "start_time": "2022-04-02T20:31:16.446168Z"
    }
   },
   "outputs": [
    {
     "data": {
      "text/plain": [
       "<matplotlib.legend.Legend at 0x7f4474ab0fa0>"
      ]
     },
     "execution_count": 9,
     "metadata": {},
     "output_type": "execute_result"
    },
    {
     "data": {
      "application/vnd.jupyter.widget-view+json": {
       "model_id": "8fabbac66ad2478896d821f6eb1d1fb7",
       "version_major": 2,
       "version_minor": 0
      },
      "image/png": "[encoded data removed]",
      "text/html": [
       "\n",
       "            <div style=\"display: inline-block;\">\n",
       "                <div class=\"jupyter-widgets widget-label\" style=\"text-align: center;\">\n",
       "                    Figure\n",
       "                </div>\n",
       "                <img src='data:image/png;base64,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' width=640.0/>\n",
       "            </div>\n",
       "        "
      ],
      "text/plain": [
       "Canvas(toolbar=Toolbar(toolitems=[('Home', 'Reset original view', 'home', 'home'), ('Back', 'Back to previous …"
      ]
     },
     "metadata": {},
     "output_type": "display_data"
    }
   ],
   "source": [
    "fig1,ax1 = plt.subplots()\n",
    "ax1.set_xlabel('time (s)') \n",
    "ax1.set_ylabel('velocity m/s')\n",
    "ax1.set_title(\"Linear velocity\")\n",
    "line1, = ax1.plot([], [], color ='r', label ='/odom')\n",
    "line2, = ax1.plot([], [], color ='b', label ='/cmd_vel')\n",
    "plt.legend(loc='upper right')"
   ]
  },
  {
   "cell_type": "code",
   "execution_count": 10,
   "id": "8ab1af5a",
   "metadata": {
    "ExecuteTime": {
     "end_time": "2022-04-02T20:31:17.107795Z",
     "start_time": "2022-04-02T20:31:17.095379Z"
    }
   },
   "outputs": [],
   "source": [
    "def animation_1(i):\n",
    "    line1.set_data(time1, odom_linear)\n",
    "    line2.set_data(time1, cmdvel_linear)\n",
    "    ax1.axis([time1[0]-0.2,time1[9]+0.2,-0.5,0.5])    \n",
    "    return [line1,line2]\n",
    "\n",
    "animation_1 = animation.FuncAnimation(fig1, animation_1, init_func=init, frames=100, interval=20, blit=True)"
   ]
  },
  {
   "cell_type": "markdown",
   "id": "965b5f81",
   "metadata": {},
   "source": [
    "# Angular velocity"
   ]
  },
  {
   "cell_type": "code",
   "execution_count": 11,
   "id": "1ab4e77f",
   "metadata": {
    "ExecuteTime": {
     "end_time": "2022-04-02T20:31:17.240301Z",
     "start_time": "2022-04-02T20:31:17.228676Z"
    }
   },
   "outputs": [],
   "source": [
    "t2 = time.time() \n",
    "time2 = list(range(0, 10))\n",
    "odom_angular =list()\n",
    "cmdvel_angular=list()"
   ]
  },
  {
   "cell_type": "code",
   "execution_count": 12,
   "id": "54c42a11",
   "metadata": {
    "ExecuteTime": {
     "end_time": "2022-04-02T20:31:17.549034Z",
     "start_time": "2022-04-02T20:31:17.358153Z"
    }
   },
   "outputs": [
    {
     "name": "stderr",
     "output_type": "stream",
     "text": [
      "Removing previous callback, only one redirection possible right now\n"
     ]
    },
    {
     "data": {
      "application/vnd.jupyter.widget-view+json": {
       "model_id": "de31f03419164997b8bef76b66c512d4",
       "version_major": 2,
       "version_minor": 0
      },
      "text/plain": [
       "VBox(children=(HBox(children=(Button(description='Stop', style=ButtonStyle()),)), Output(layout=Layout(border=…"
      ]
     },
     "metadata": {},
     "output_type": "display_data"
    }
   ],
   "source": [
    "def init1():\n",
    "    line3.set_data([], [])\n",
    "    line4.set_data([], [])\n",
    "    return [line3,line4]\n",
    "\n",
    "def clb_odom1(msg):\n",
    "    if len(time2)>10:\n",
    "      time2.pop(0) \n",
    "    if len(odom_angular)>10:\n",
    "      odom_angular.pop(0)\n",
    "    iupsilon = np.float32(msg.twist.twist.angular.z)\n",
    "    ix = np.float32(time.time()-t2)\n",
    "    odom_angular.append(iupsilon)\n",
    "    time2.append(ix)\n",
    "    \n",
    "jr.subscribe('/odom',Odometry, clb_odom1)"
   ]
  },
  {
   "cell_type": "code",
   "execution_count": 13,
   "id": "fa7c6e25",
   "metadata": {
    "ExecuteTime": {
     "end_time": "2022-04-02T20:31:17.841576Z",
     "start_time": "2022-04-02T20:31:17.674725Z"
    }
   },
   "outputs": [
    {
     "name": "stderr",
     "output_type": "stream",
     "text": [
      "Removing previous callback, only one redirection possible right now\n"
     ]
    },
    {
     "data": {
      "application/vnd.jupyter.widget-view+json": {
       "model_id": "2183814f7f0c4933ad038f7603a75ac2",
       "version_major": 2,
       "version_minor": 0
      },
      "text/plain": [
       "VBox(children=(HBox(children=(Button(description='Stop', style=ButtonStyle()),)), Output(layout=Layout(border=…"
      ]
     },
     "metadata": {},
     "output_type": "display_data"
    }
   ],
   "source": [
    "def clb_cmdvel1(msg):\n",
    "    if len(cmdvel_angular)>10:\n",
    "      cmdvel_angular.pop(0)\n",
    "    iupsilon = np.float32(msg.angular.z)\n",
    "    cmdvel_angular.append(iupsilon)\n",
    "    \n",
    "jr.subscribe('/cmd_vel', Twist, clb_cmdvel1)"
   ]
  },
  {
   "cell_type": "code",
   "execution_count": 14,
   "id": "964e9d1a",
   "metadata": {
    "ExecuteTime": {
     "end_time": "2022-04-02T20:31:18.353302Z",
     "start_time": "2022-04-02T20:31:17.980603Z"
    }
   },
   "outputs": [
    {
     "data": {
      "text/plain": [
       "<matplotlib.legend.Legend at 0x7f44749947c0>"
      ]
     },
     "execution_count": 14,
     "metadata": {},
     "output_type": "execute_result"
    },
    {
     "data": {
      "application/vnd.jupyter.widget-view+json": {
       "model_id": "da9b9421a0e44e5b961f014cd08fcdef",
       "version_major": 2,
       "version_minor": 0
      },
      "image/png": "[encoded data removed]",
      "text/html": [
       "\n",
       "            <div style=\"display: inline-block;\">\n",
       "                <div class=\"jupyter-widgets widget-label\" style=\"text-align: center;\">\n",
       "                    Figure\n",
       "                </div>\n",
       "                <img src='data:image/png;base64,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' width=640.0/>\n",
       "            </div>\n",
       "        "
      ],
      "text/plain": [
       "Canvas(toolbar=Toolbar(toolitems=[('Home', 'Reset original view', 'home', 'home'), ('Back', 'Back to previous …"
      ]
     },
     "metadata": {},
     "output_type": "display_data"
    }
   ],
   "source": [
    "fig2, ax2 = plt.subplots()\n",
    "line3, = ax2.plot([], [], color ='r', label ='/odom')\n",
    "line4, = ax2.plot([], [], color ='b', label ='/cmd_vel')\n",
    "ax2.set_xlabel('time (s)') \n",
    "ax2.set_ylabel('velocity rad/s')\n",
    "ax2.set_title(\"Angular velocity\")\n",
    "plt.legend(loc='upper right')"
   ]
  },
  {
   "cell_type": "code",
   "execution_count": 15,
   "id": "69a2aca0",
   "metadata": {
    "ExecuteTime": {
     "end_time": "2022-04-02T20:31:20.287960Z",
     "start_time": "2022-04-02T20:31:18.486817Z"
    }
   },
   "outputs": [
    {
     "ename": "NameError",
     "evalue": "name 'animate2' is not defined",
     "output_type": "error",
     "traceback": [
      "\u001b[0;31m---------------------------------------------------------------------------\u001b[0m",
      "\u001b[0;31mNameError\u001b[0m                                 Traceback (most recent call last)",
      "Input \u001b[0;32mIn [15]\u001b[0m, in \u001b[0;36m<cell line: 7>\u001b[0;34m()\u001b[0m\n\u001b[1;32m      4\u001b[0m     ax2\u001b[38;5;241m.\u001b[39maxis([time2[\u001b[38;5;241m0\u001b[39m]\u001b[38;5;241m-\u001b[39m\u001b[38;5;241m0.2\u001b[39m,time2[\u001b[38;5;241m9\u001b[39m]\u001b[38;5;241m+\u001b[39m\u001b[38;5;241m0.2\u001b[39m,\u001b[38;5;241m-\u001b[39m\u001b[38;5;241m0.5\u001b[39m,\u001b[38;5;241m0.5\u001b[39m])\n\u001b[1;32m      5\u001b[0m     \u001b[38;5;28;01mreturn\u001b[39;00m [line3,line4]\n\u001b[0;32m----> 7\u001b[0m animation_2 \u001b[38;5;241m=\u001b[39m animation\u001b[38;5;241m.\u001b[39mFuncAnimation(fig2, \u001b[43manimate2\u001b[49m, init_func\u001b[38;5;241m=\u001b[39minit1, frames\u001b[38;5;241m=\u001b[39m\u001b[38;5;241m100\u001b[39m, interval\u001b[38;5;241m=\u001b[39m\u001b[38;5;241m20\u001b[39m, blit\u001b[38;5;241m=\u001b[39m\u001b[38;5;28;01mTrue\u001b[39;00m)\n",
      "\u001b[0;31mNameError\u001b[0m: name 'animate2' is not defined"
     ]
    }
   ],
   "source": [
    "def animation_2(i):\n",
    "    line3.set_data(time2, odom_angular)\n",
    "    line4.set_data(time2, cmdvel_angular)\n",
    "    ax2.axis([time2[0]-0.2,time2[9]+0.2,-0.5,0.5])\n",
    "    return [line3,line4]\n",
    "\n",
    "animation_2 = animation.FuncAnimation(fig2, animate2, init_func=init1, frames=100, interval=20, blit=True)"
   ]
  },
  {
   "cell_type": "markdown",
   "id": "1d4f57b2",
   "metadata": {},
   "source": [
    "# Barplot visualization of reached targets and cancelled targets\n"
   ]
  },
  {
   "cell_type": "code",
   "execution_count": 20,
   "id": "58295cdb",
   "metadata": {
    "ExecuteTime": {
     "end_time": "2022-04-02T20:33:03.049040Z",
     "start_time": "2022-04-02T20:33:02.778084Z"
    }
   },
   "outputs": [
    {
     "data": {
      "application/vnd.jupyter.widget-view+json": {
       "model_id": "1e830524f6104dfb8f24cb840edd80f5",
       "version_major": 2,
       "version_minor": 0
      },
      "image/png": "[encoded data removed]",
      "text/html": [
       "\n",
       "            <div style=\"display: inline-block;\">\n",
       "                <div class=\"jupyter-widgets widget-label\" style=\"text-align: center;\">\n",
       "                    Figure\n",
       "                </div>\n",
       "                <img src='data:image/png;base64,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' width=640.0/>\n",
       "            </div>\n",
       "        "
      ],
      "text/plain": [
       "Canvas(toolbar=Toolbar(toolitems=[('Home', 'Reset original view', 'home', 'home'), ('Back', 'Back to previous …"
      ]
     },
     "metadata": {},
     "output_type": "display_data"
    }
   ],
   "source": [
    "states = (reached,cancelled)\n",
    "index = np.arange(2)\n",
    "f1,axis2= plt.bar(index,states,width=0.5,color='g')\n",
    "plt.ylabel('Number')\n",
    "plt.title('Targets')\n",
    "plt.xticks(index, ('reached', 'cancelled'))\n",
    "plt.show()"
   ]
  },
  {
   "cell_type": "markdown",
   "id": "555042be",
   "metadata": {},
   "source": [
    "# Histogram visualization"
   ]
  },
  {
   "cell_type": "code",
   "execution_count": 21,
   "id": "211a4113",
   "metadata": {
    "ExecuteTime": {
     "end_time": "2022-04-02T20:33:20.966387Z",
     "start_time": "2022-04-02T20:33:20.820714Z"
    }
   },
   "outputs": [
    {
     "name": "stderr",
     "output_type": "stream",
     "text": [
      "/tmp/ipykernel_7379/1901120746.py:2: MatplotlibDeprecationWarning: Adding an axes using the same arguments as a previous axes currently reuses the earlier instance.  In a future version, a new instance will always be created and returned.  Meanwhile, this warning can be suppressed, and the future behavior ensured, by passing a unique label to each axes instance.\n",
      "  fig2=plt.subplot(111)\n"
     ]
    },
    {
     "data": {
      "application/vnd.jupyter.widget-view+json": {
       "model_id": "1e830524f6104dfb8f24cb840edd80f5",
       "version_major": 2,
       "version_minor": 0
      },
      "image/png": "[encoded data removed]",
      "text/html": [
       "\n",
       "            <div style=\"display: inline-block;\">\n",
       "                <div class=\"jupyter-widgets widget-label\" style=\"text-align: center;\">\n",
       "                    Figure 1\n",
       "                </div>\n",
       "                <img src='data:image/png;base64,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' width=640.0/>\n",
       "            </div>\n",
       "        "
      ],
      "text/plain": [
       "Canvas(toolbar=Toolbar(toolitems=[('Home', 'Reset original view', 'home', 'home'), ('Back', 'Back to previous …"
      ]
     },
     "metadata": {},
     "output_type": "display_data"
    }
   ],
   "source": [
    "var2=list(range(0,len(data),1))\n",
    "fig2=plt.subplot(111)\n",
    "plt.bar(var2,data,width=0.5,color='b')\n",
    "plt.ylabel('time (s)')\n",
    "plt.title('Time required to reach targets')\n",
    "plt.show()"
   ]
  },
  {
   "cell_type": "markdown",
   "id": "5e565481",
   "metadata": {},
   "source": [
    "# Show position"
   ]
  },
  {
   "cell_type": "code",
   "execution_count": null,
   "id": "da26bcf9",
   "metadata": {
    "ExecuteTime": {
     "end_time": "2022-04-02T20:31:20.356198Z",
     "start_time": "2022-04-02T20:31:20.356049Z"
    }
   },
   "outputs": [],
   "source": [
    "x_data=list()\n",
    "y_data=list()"
   ]
  },
  {
   "cell_type": "code",
   "execution_count": null,
   "id": "df050ad1",
   "metadata": {
    "ExecuteTime": {
     "end_time": "2022-04-02T20:31:20.373900Z",
     "start_time": "2022-04-02T20:31:20.373851Z"
    }
   },
   "outputs": [],
   "source": [
    "fig, ax = plt.subplots()\n",
    "ax.set_xlim(( -5, 5))\n",
    "ax.set_ylim((-5, 5))\n",
    "ax.set_xlabel('x') \n",
    "ax.set_ylabel('y')\n",
    "ax.set_title(\"Position\")\n",
    "line, = ax.plot([], [], 'ro')"
   ]
  },
  {
   "cell_type": "code",
   "execution_count": null,
   "id": "96b49b24",
   "metadata": {
    "ExecuteTime": {
     "end_time": "2022-04-02T20:31:20.409475Z",
     "start_time": "2022-04-02T20:31:20.409431Z"
    },
    "scrolled": true
   },
   "outputs": [],
   "source": [
    "def init2():\n",
    "    line.set_data([], [])\n",
    "    return (line,)\n",
    "    \n",
    "def odom_callback(msg):\n",
    "    if len(x_data)>50:\n",
    "      x_data.pop(0)     \n",
    "    if len(y_data)>50:\n",
    "      y_data.pop(0)\n",
    "    iupsilon = np.float32(msg.pose.pose.position.y)\n",
    "    x_ = np.float32(msg.pose.pose.position.x)\n",
    "    y_data.append(iupsilon)\n",
    "    x_data.append(ix)\n",
    "    \n",
    "jr.subscribe('/odom', Odometry, odom_callback)"
   ]
  },
  {
   "cell_type": "code",
   "execution_count": null,
   "id": "f5a79485",
   "metadata": {
    "ExecuteTime": {
     "end_time": "2022-04-02T20:31:20.423604Z",
     "start_time": "2022-04-02T20:31:20.423574Z"
    }
   },
   "outputs": [],
   "source": [
    "def animation_3(i):\n",
    "    line.set_data(x_data, y_data)\n",
    "    return (line,)\n",
    "\n",
    "animation_3 = animation.FuncAnimation(fig, animation_3, init_func=init2, frames=100, interval=20, blit=True)"
   ]
  }
 ],
 "metadata": {
  "hide_input": false,
  "kernelspec": {
   "display_name": "Python 3 (ipykernel)",
   "language": "python",
   "name": "python3"
  },
  "language_info": {
   "codemirror_mode": {
    "name": "ipython",
    "version": 3
   },
   "file_extension": ".py",
   "mimetype": "text/x-python",
   "name": "python",
   "nbconvert_exporter": "python",
   "pygments_lexer": "ipython3",
   "version": "3.8.10"
  },
  "toc": {
   "base_numbering": 1,
   "nav_menu": {},
   "number_sections": true,
   "sideBar": true,
   "skip_h1_title": false,
   "title_cell": "Table of Contents",
   "title_sidebar": "Contents",
   "toc_cell": false,
   "toc_position": {},
   "toc_section_display": true,
   "toc_window_display": false
  },
  "varInspector": {
   "cols": {
    "lenName": 16,
    "lenType": 16,
    "lenVar": 40
   },
   "kernels_config": {
    "python": {
     "delete_cmd_postfix": "",
     "delete_cmd_prefix": "del ",
     "library": "var_list.py",
     "varRefreshCmd": "print(var_dic_list())"
    },
    "r": {
     "delete_cmd_postfix": ") ",
     "delete_cmd_prefix": "rm(",
     "library": "var_list.r",
     "varRefreshCmd": "cat(var_dic_list()) "
    }
   },
   "types_to_exclude": [
    "module",
    "function",
    "builtin_function_or_method",
    "instance",
    "_Feature"
   ],
   "window_display": false
  }
 },
 "nbformat": 4,
 "nbformat_minor": 5
}
